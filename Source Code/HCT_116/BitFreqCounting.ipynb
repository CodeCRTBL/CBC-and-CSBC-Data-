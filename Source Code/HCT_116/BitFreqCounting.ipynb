{
 "cells": [
  {
   "cell_type": "code",
   "execution_count": 4,
   "id": "375e670b-c536-48d4-9138-98e1e2b963b8",
   "metadata": {},
   "outputs": [],
   "source": [
    "import pandas as pd \n",
    "import numpy as np \n",
    "import matplotlib.pyplot as pyplot\n",
    "import os \n",
    "import glob\n",
    "import pickle\n",
    "from tqdm import tqdm"
   ]
  },
  {
   "cell_type": "code",
   "execution_count": 1,
   "id": "c3e78484-9a0a-4736-9dd9-89420455676b",
   "metadata": {},
   "outputs": [
    {
     "name": "stdout",
     "output_type": "stream",
     "text": [
      "Files in the result directory:\n",
      "['chunk_0_100_simplified_bit_frequency.pkl', 'chunk_1000_1100_simplified_bit_frequency.pkl', 'chunk_100_200_simplified_bit_frequency.pkl', 'chunk_1100_1200_simplified_bit_frequency.pkl', 'chunk_1200_1300_simplified_bit_frequency.pkl', 'chunk_1300_1400_simplified_bit_frequency.pkl', 'chunk_1400_1500_simplified_bit_frequency.pkl', 'chunk_1500_1600_simplified_bit_frequency.pkl', 'chunk_1600_1700_simplified_bit_frequency.pkl', 'chunk_1700_1800_simplified_bit_frequency.pkl', 'chunk_1800_1900_simplified_bit_frequency.pkl', 'chunk_1900_2000_simplified_bit_frequency.pkl', 'chunk_2000_2100_simplified_bit_frequency.pkl', 'chunk_200_300_simplified_bit_frequency.pkl', 'chunk_2100_2200_simplified_bit_frequency.pkl', 'chunk_2200_2300_simplified_bit_frequency.pkl', 'chunk_2300_2400_simplified_bit_frequency.pkl', 'chunk_2400_2417_simplified_bit_frequency.pkl', 'chunk_300_400_simplified_bit_frequency.pkl', 'chunk_400_500_simplified_bit_frequency.pkl', 'chunk_500_600_simplified_bit_frequency.pkl', 'chunk_600_700_simplified_bit_frequency.pkl', 'chunk_700_800_simplified_bit_frequency.pkl', 'chunk_800_900_simplified_bit_frequency.pkl', 'chunk_900_1000_simplified_bit_frequency.pkl']\n"
     ]
    }
   ],
   "source": [
    "result_directory = r\"D:\\Road to PhD\\Data Base\\bit_frequency_results\"\n",
    "print(\"Files in the result directory:\")\n",
    "print(os.listdir(result_directory))"
   ]
  },
  {
   "cell_type": "code",
   "execution_count": 4,
   "id": "1848dae2-7ee3-4f6d-b62d-b2df32f11ccd",
   "metadata": {
    "scrolled": true
   },
   "outputs": [
    {
     "name": "stdout",
     "output_type": "stream",
     "text": [
      "<class 'pandas.core.frame.DataFrame'>\n",
      "Index: 2048 entries, 597 to 72\n",
      "Data columns (total 12 columns):\n",
      " #   Column            Non-Null Count  Dtype \n",
      "---  ------            --------------  ----- \n",
      " 0   Bit (+1)          2048 non-null   object\n",
      " 1   Value (+1)        2048 non-null   int64 \n",
      " 2   Frequency (+1)    2048 non-null   int64 \n",
      " 3   Molecule_ID (+1)  2048 non-null   object\n",
      " 4   Bit (-1)          2048 non-null   object\n",
      " 5   Value (-1)        2048 non-null   int64 \n",
      " 6   Frequency (-1)    2048 non-null   int64 \n",
      " 7   Molecule_ID (-1)  2048 non-null   object\n",
      " 8   Bit (0)           2048 non-null   object\n",
      " 9   Value (0)         2048 non-null   int64 \n",
      " 10  Frequency (0)     2048 non-null   int64 \n",
      " 11  Molecule_ID (0)   2048 non-null   object\n",
      "dtypes: int64(6), object(6)\n",
      "memory usage: 208.0+ KB\n",
      "None\n",
      "     Bit (+1)  Value (+1)  Frequency (+1)  \\\n",
      "597       598           1           17472   \n",
      "427       428           1           17050   \n",
      "1555     1556           1           16520   \n",
      "1989     1990           1           14553   \n",
      "7           8           1           14392   \n",
      "\n",
      "                                       Molecule_ID (+1) Bit (-1)  Value (-1)  \\\n",
      "597   ((43, 1448), (43, 1541), (114, 1448), (114, 15...      598          -1   \n",
      "427   ((118, 5750), (119, 5750)), ((94, 1894),), ((4...      428          -1   \n",
      "1555  ((88, 1693), (88, 2517), (88, 4942), (88, 5508...     1556          -1   \n",
      "1989  ((74, 3532),), ((43, 1448), (43, 1541), (114, ...     1990          -1   \n",
      "7     ((230, 1589), (230, 3933)), ((197, 4987), (198...        8          -1   \n",
      "\n",
      "      Frequency (-1)                                   Molecule_ID (-1)  \\\n",
      "597             9141  ((139, 422),), ((140, 2976), (140, 3690), (141...   \n",
      "427             6292  ((76, 3223),), ((161, 2673),), ((192, 1641), (...   \n",
      "1555            9800  ((67, 3486), (68, 3486), (69, 3486)), ((76, 32...   \n",
      "1989           10296  ((151, 227), (151, 1638), (151, 3456), (152, 2...   \n",
      "7               8284  ((139, 422),), ((140, 2976), (140, 3690), (141...   \n",
      "\n",
      "     Bit (0)  Value (0)  Frequency (0)  \\\n",
      "597      598          0          25332   \n",
      "427      428          0          28603   \n",
      "1555    1556          0          25625   \n",
      "1989    1990          0          27096   \n",
      "7          8          0          29269   \n",
      "\n",
      "                                        Molecule_ID (0)  \n",
      "597   ((74, 3532),), ((219, 3141), (219, 4381)), ((0...  \n",
      "427   ((139, 422),), ((140, 2976), (140, 3690), (141...  \n",
      "1555  ((139, 422),), ((140, 2976), (140, 3690), (141...  \n",
      "1989  ((139, 422),), ((140, 2976), (140, 3690), (141...  \n",
      "7     ((67, 3486), (68, 3486), (69, 3486)), ((76, 32...  \n"
     ]
    }
   ],
   "source": [
    "file_path = r\"D:\\Road to PhD\\Data Base\\bit_frequency_results\\chunk_0_100_simplified_bit_frequency.pkl\"\n",
    "try:\n",
    "    specific_chunk = pd.read_pickle(file_path)\n",
    "    print(specific_chunk.info())  # Structure of the DataFrame\n",
    "    print(specific_chunk.head())  # Preview the data\n",
    "except Exception as e:\n",
    "    print(f\"Error loading file: {e}\")"
   ]
  },
  {
   "cell_type": "code",
   "execution_count": 26,
   "id": "f286ef2d-035b-4cff-aae8-d94b2ccccb13",
   "metadata": {
    "scrolled": true
   },
   "outputs": [
    {
     "data": {
      "text/html": [
       "<div>\n",
       "<style scoped>\n",
       "    .dataframe tbody tr th:only-of-type {\n",
       "        vertical-align: middle;\n",
       "    }\n",
       "\n",
       "    .dataframe tbody tr th {\n",
       "        vertical-align: top;\n",
       "    }\n",
       "\n",
       "    .dataframe thead th {\n",
       "        text-align: right;\n",
       "    }\n",
       "</style>\n",
       "<table border=\"1\" class=\"dataframe\">\n",
       "  <thead>\n",
       "    <tr style=\"text-align: right;\">\n",
       "      <th></th>\n",
       "      <th>Bit (+1)</th>\n",
       "      <th>Value (+1)</th>\n",
       "      <th>Frequency (+1)</th>\n",
       "      <th>Molecule_ID (+1)</th>\n",
       "      <th>Bit (-1)</th>\n",
       "      <th>Value (-1)</th>\n",
       "      <th>Frequency (-1)</th>\n",
       "      <th>Molecule_ID (-1)</th>\n",
       "      <th>Bit (0)</th>\n",
       "      <th>Value (0)</th>\n",
       "      <th>Frequency (0)</th>\n",
       "      <th>Molecule_ID (0)</th>\n",
       "    </tr>\n",
       "  </thead>\n",
       "  <tbody>\n",
       "    <tr>\n",
       "      <th>597</th>\n",
       "      <td>598</td>\n",
       "      <td>1</td>\n",
       "      <td>17472</td>\n",
       "      <td>((43, 1448), (43, 1541), (114, 1448), (114, 15...</td>\n",
       "      <td>598</td>\n",
       "      <td>-1</td>\n",
       "      <td>9141</td>\n",
       "      <td>((139, 422),), ((140, 2976), (140, 3690), (141...</td>\n",
       "      <td>598</td>\n",
       "      <td>0</td>\n",
       "      <td>25332</td>\n",
       "      <td>((74, 3532),), ((219, 3141), (219, 4381)), ((0...</td>\n",
       "    </tr>\n",
       "    <tr>\n",
       "      <th>427</th>\n",
       "      <td>428</td>\n",
       "      <td>1</td>\n",
       "      <td>17050</td>\n",
       "      <td>((118, 5750), (119, 5750)), ((94, 1894),), ((4...</td>\n",
       "      <td>428</td>\n",
       "      <td>-1</td>\n",
       "      <td>6292</td>\n",
       "      <td>((76, 3223),), ((161, 2673),), ((192, 1641), (...</td>\n",
       "      <td>428</td>\n",
       "      <td>0</td>\n",
       "      <td>28603</td>\n",
       "      <td>((139, 422),), ((140, 2976), (140, 3690), (141...</td>\n",
       "    </tr>\n",
       "    <tr>\n",
       "      <th>1555</th>\n",
       "      <td>1556</td>\n",
       "      <td>1</td>\n",
       "      <td>16520</td>\n",
       "      <td>((88, 1693), (88, 2517), (88, 4942), (88, 5508...</td>\n",
       "      <td>1556</td>\n",
       "      <td>-1</td>\n",
       "      <td>9800</td>\n",
       "      <td>((67, 3486), (68, 3486), (69, 3486)), ((76, 32...</td>\n",
       "      <td>1556</td>\n",
       "      <td>0</td>\n",
       "      <td>25625</td>\n",
       "      <td>((139, 422),), ((140, 2976), (140, 3690), (141...</td>\n",
       "    </tr>\n",
       "    <tr>\n",
       "      <th>1989</th>\n",
       "      <td>1990</td>\n",
       "      <td>1</td>\n",
       "      <td>14553</td>\n",
       "      <td>((74, 3532),), ((43, 1448), (43, 1541), (114, ...</td>\n",
       "      <td>1990</td>\n",
       "      <td>-1</td>\n",
       "      <td>10296</td>\n",
       "      <td>((151, 227), (151, 1638), (151, 3456), (152, 2...</td>\n",
       "      <td>1990</td>\n",
       "      <td>0</td>\n",
       "      <td>27096</td>\n",
       "      <td>((139, 422),), ((140, 2976), (140, 3690), (141...</td>\n",
       "    </tr>\n",
       "    <tr>\n",
       "      <th>7</th>\n",
       "      <td>8</td>\n",
       "      <td>1</td>\n",
       "      <td>14392</td>\n",
       "      <td>((230, 1589), (230, 3933)), ((197, 4987), (198...</td>\n",
       "      <td>8</td>\n",
       "      <td>-1</td>\n",
       "      <td>8284</td>\n",
       "      <td>((139, 422),), ((140, 2976), (140, 3690), (141...</td>\n",
       "      <td>8</td>\n",
       "      <td>0</td>\n",
       "      <td>29269</td>\n",
       "      <td>((67, 3486), (68, 3486), (69, 3486)), ((76, 32...</td>\n",
       "    </tr>\n",
       "  </tbody>\n",
       "</table>\n",
       "</div>"
      ],
      "text/plain": [
       "     Bit (+1)  Value (+1)  Frequency (+1)  \\\n",
       "597       598           1           17472   \n",
       "427       428           1           17050   \n",
       "1555     1556           1           16520   \n",
       "1989     1990           1           14553   \n",
       "7           8           1           14392   \n",
       "\n",
       "                                       Molecule_ID (+1) Bit (-1)  Value (-1)  \\\n",
       "597   ((43, 1448), (43, 1541), (114, 1448), (114, 15...      598          -1   \n",
       "427   ((118, 5750), (119, 5750)), ((94, 1894),), ((4...      428          -1   \n",
       "1555  ((88, 1693), (88, 2517), (88, 4942), (88, 5508...     1556          -1   \n",
       "1989  ((74, 3532),), ((43, 1448), (43, 1541), (114, ...     1990          -1   \n",
       "7     ((230, 1589), (230, 3933)), ((197, 4987), (198...        8          -1   \n",
       "\n",
       "      Frequency (-1)                                   Molecule_ID (-1)  \\\n",
       "597             9141  ((139, 422),), ((140, 2976), (140, 3690), (141...   \n",
       "427             6292  ((76, 3223),), ((161, 2673),), ((192, 1641), (...   \n",
       "1555            9800  ((67, 3486), (68, 3486), (69, 3486)), ((76, 32...   \n",
       "1989           10296  ((151, 227), (151, 1638), (151, 3456), (152, 2...   \n",
       "7               8284  ((139, 422),), ((140, 2976), (140, 3690), (141...   \n",
       "\n",
       "     Bit (0)  Value (0)  Frequency (0)  \\\n",
       "597      598          0          25332   \n",
       "427      428          0          28603   \n",
       "1555    1556          0          25625   \n",
       "1989    1990          0          27096   \n",
       "7          8          0          29269   \n",
       "\n",
       "                                        Molecule_ID (0)  \n",
       "597   ((74, 3532),), ((219, 3141), (219, 4381)), ((0...  \n",
       "427   ((139, 422),), ((140, 2976), (140, 3690), (141...  \n",
       "1555  ((139, 422),), ((140, 2976), (140, 3690), (141...  \n",
       "1989  ((139, 422),), ((140, 2976), (140, 3690), (141...  \n",
       "7     ((67, 3486), (68, 3486), (69, 3486)), ((76, 32...  "
      ]
     },
     "execution_count": 26,
     "metadata": {},
     "output_type": "execute_result"
    }
   ],
   "source": [
    "specific_chunk.head()\n"
   ]
  },
  {
   "cell_type": "code",
   "execution_count": 27,
   "id": "bd62844f-7446-439e-a0a8-b0e388506c9b",
   "metadata": {
    "scrolled": true
   },
   "outputs": [
    {
     "name": "stderr",
     "output_type": "stream",
     "text": [
      "Processing files incrementally:   4%|█▉                                                 | 1/26 [00:02<00:52,  2.09s/it]"
     ]
    },
    {
     "name": "stdout",
     "output_type": "stream",
     "text": [
      "Processing chunk_0_100_simplified_bit_frequency with shape: (2048, 12)\n"
     ]
    },
    {
     "name": "stderr",
     "output_type": "stream",
     "text": [
      "Processing files incrementally:   8%|███▉                                               | 2/26 [00:06<01:18,  3.27s/it]"
     ]
    },
    {
     "name": "stdout",
     "output_type": "stream",
     "text": [
      "Processing chunk_1000_1100_simplified_bit_frequency with shape: (2048, 12)\n"
     ]
    },
    {
     "name": "stderr",
     "output_type": "stream",
     "text": [
      "Processing files incrementally:  12%|█████▉                                             | 3/26 [00:25<04:04, 10.61s/it]"
     ]
    },
    {
     "name": "stdout",
     "output_type": "stream",
     "text": [
      "Processing chunk_100_200_simplified_bit_frequency with shape: (2048, 12)\n"
     ]
    },
    {
     "name": "stderr",
     "output_type": "stream",
     "text": [
      "Processing files incrementally:  15%|███████▊                                           | 4/26 [00:46<05:20, 14.58s/it]"
     ]
    },
    {
     "name": "stdout",
     "output_type": "stream",
     "text": [
      "Processing chunk_1100_1200_simplified_bit_frequency with shape: (2048, 12)\n"
     ]
    },
    {
     "name": "stderr",
     "output_type": "stream",
     "text": [
      "Processing files incrementally:  19%|█████████▊                                         | 5/26 [01:07<05:53, 16.84s/it]"
     ]
    },
    {
     "name": "stdout",
     "output_type": "stream",
     "text": [
      "Processing chunk_1200_1300_simplified_bit_frequency with shape: (2048, 12)\n"
     ]
    },
    {
     "name": "stderr",
     "output_type": "stream",
     "text": [
      "Processing files incrementally:  23%|███████████▊                                       | 6/26 [01:27<06:03, 18.19s/it]"
     ]
    },
    {
     "name": "stdout",
     "output_type": "stream",
     "text": [
      "Processing chunk_1300_1400_simplified_bit_frequency with shape: (2048, 12)\n"
     ]
    },
    {
     "name": "stderr",
     "output_type": "stream",
     "text": [
      "Processing files incrementally:  27%|█████████████▋                                     | 7/26 [01:48<06:03, 19.11s/it]"
     ]
    },
    {
     "name": "stdout",
     "output_type": "stream",
     "text": [
      "Processing chunk_1400_1500_simplified_bit_frequency with shape: (2048, 12)\n"
     ]
    },
    {
     "name": "stderr",
     "output_type": "stream",
     "text": [
      "Processing files incrementally:  31%|███████████████▋                                   | 8/26 [02:09<05:52, 19.58s/it]"
     ]
    },
    {
     "name": "stdout",
     "output_type": "stream",
     "text": [
      "Processing chunk_1500_1600_simplified_bit_frequency with shape: (2048, 12)\n"
     ]
    },
    {
     "name": "stderr",
     "output_type": "stream",
     "text": [
      "Processing files incrementally:  35%|█████████████████▋                                 | 9/26 [02:29<05:37, 19.84s/it]"
     ]
    },
    {
     "name": "stdout",
     "output_type": "stream",
     "text": [
      "Processing chunk_1600_1700_simplified_bit_frequency with shape: (2048, 12)\n"
     ]
    },
    {
     "name": "stderr",
     "output_type": "stream",
     "text": [
      "Processing files incrementally:  38%|███████████████████▏                              | 10/26 [02:50<05:23, 20.22s/it]"
     ]
    },
    {
     "name": "stdout",
     "output_type": "stream",
     "text": [
      "Processing chunk_1700_1800_simplified_bit_frequency with shape: (2048, 12)\n"
     ]
    },
    {
     "name": "stderr",
     "output_type": "stream",
     "text": [
      "Processing files incrementally:  42%|█████████████████████▏                            | 11/26 [03:11<05:07, 20.47s/it]"
     ]
    },
    {
     "name": "stdout",
     "output_type": "stream",
     "text": [
      "Processing chunk_1800_1900_simplified_bit_frequency with shape: (2048, 12)\n"
     ]
    },
    {
     "name": "stderr",
     "output_type": "stream",
     "text": [
      "Processing files incrementally:  46%|███████████████████████                           | 12/26 [03:33<04:49, 20.67s/it]"
     ]
    },
    {
     "name": "stdout",
     "output_type": "stream",
     "text": [
      "Processing chunk_1900_2000_simplified_bit_frequency with shape: (2048, 12)\n"
     ]
    },
    {
     "name": "stderr",
     "output_type": "stream",
     "text": [
      "Processing files incrementally:  50%|█████████████████████████                         | 13/26 [03:54<04:30, 20.77s/it]"
     ]
    },
    {
     "name": "stdout",
     "output_type": "stream",
     "text": [
      "Processing chunk_2000_2100_simplified_bit_frequency with shape: (2048, 12)\n"
     ]
    },
    {
     "name": "stderr",
     "output_type": "stream",
     "text": [
      "Processing files incrementally:  54%|██████████████████████████▉                       | 14/26 [04:13<04:05, 20.44s/it]"
     ]
    },
    {
     "name": "stdout",
     "output_type": "stream",
     "text": [
      "Processing chunk_200_300_simplified_bit_frequency with shape: (2048, 12)\n"
     ]
    },
    {
     "name": "stderr",
     "output_type": "stream",
     "text": [
      "Processing files incrementally:  58%|████████████████████████████▊                     | 15/26 [04:34<03:46, 20.62s/it]"
     ]
    },
    {
     "name": "stdout",
     "output_type": "stream",
     "text": [
      "Processing chunk_2100_2200_simplified_bit_frequency with shape: (2048, 12)\n"
     ]
    },
    {
     "name": "stderr",
     "output_type": "stream",
     "text": [
      "Processing files incrementally:  62%|██████████████████████████████▊                   | 16/26 [04:55<03:26, 20.69s/it]"
     ]
    },
    {
     "name": "stdout",
     "output_type": "stream",
     "text": [
      "Processing chunk_2200_2300_simplified_bit_frequency with shape: (2048, 12)\n"
     ]
    },
    {
     "name": "stderr",
     "output_type": "stream",
     "text": [
      "Processing files incrementally:  65%|████████████████████████████████▋                 | 17/26 [05:16<03:06, 20.75s/it]"
     ]
    },
    {
     "name": "stdout",
     "output_type": "stream",
     "text": [
      "Processing chunk_2300_2400_simplified_bit_frequency with shape: (2048, 12)\n"
     ]
    },
    {
     "name": "stderr",
     "output_type": "stream",
     "text": [
      "Processing files incrementally:  69%|██████████████████████████████████▌               | 18/26 [05:20<02:05, 15.68s/it]"
     ]
    },
    {
     "name": "stdout",
     "output_type": "stream",
     "text": [
      "Processing chunk_2400_2417_simplified_bit_frequency with shape: (2048, 12)\n"
     ]
    },
    {
     "name": "stderr",
     "output_type": "stream",
     "text": [
      "Processing files incrementally:  73%|████████████████████████████████████▌             | 19/26 [05:40<01:59, 17.08s/it]"
     ]
    },
    {
     "name": "stdout",
     "output_type": "stream",
     "text": [
      "Processing chunk_300_400_simplified_bit_frequency with shape: (2048, 12)\n"
     ]
    },
    {
     "name": "stderr",
     "output_type": "stream",
     "text": [
      "Processing files incrementally:  77%|██████████████████████████████████████▍           | 20/26 [06:02<01:51, 18.61s/it]"
     ]
    },
    {
     "name": "stdout",
     "output_type": "stream",
     "text": [
      "Processing chunk_400_500_simplified_bit_frequency with shape: (2048, 12)\n"
     ]
    },
    {
     "name": "stderr",
     "output_type": "stream",
     "text": [
      "Processing files incrementally:  81%|████████████████████████████████████████▍         | 21/26 [06:24<01:38, 19.63s/it]"
     ]
    },
    {
     "name": "stdout",
     "output_type": "stream",
     "text": [
      "Processing chunk_500_600_simplified_bit_frequency with shape: (2048, 12)\n"
     ]
    },
    {
     "name": "stderr",
     "output_type": "stream",
     "text": [
      "Processing files incrementally:  85%|██████████████████████████████████████████▎       | 22/26 [06:47<01:21, 20.37s/it]"
     ]
    },
    {
     "name": "stdout",
     "output_type": "stream",
     "text": [
      "Processing chunk_600_700_simplified_bit_frequency with shape: (2048, 12)\n"
     ]
    },
    {
     "name": "stderr",
     "output_type": "stream",
     "text": [
      "Processing files incrementally:  88%|████████████████████████████████████████████▏     | 23/26 [07:09<01:02, 20.86s/it]"
     ]
    },
    {
     "name": "stdout",
     "output_type": "stream",
     "text": [
      "Processing chunk_700_800_simplified_bit_frequency with shape: (2048, 12)\n"
     ]
    },
    {
     "name": "stderr",
     "output_type": "stream",
     "text": [
      "Processing files incrementally:  92%|██████████████████████████████████████████████▏   | 24/26 [07:30<00:42, 21.09s/it]"
     ]
    },
    {
     "name": "stdout",
     "output_type": "stream",
     "text": [
      "Processing chunk_800_900_simplified_bit_frequency with shape: (2048, 12)\n"
     ]
    },
    {
     "name": "stderr",
     "output_type": "stream",
     "text": [
      "Processing files incrementally:  96%|████████████████████████████████████████████████  | 25/26 [07:52<00:21, 21.32s/it]"
     ]
    },
    {
     "name": "stdout",
     "output_type": "stream",
     "text": [
      "Processing chunk_900_1000_simplified_bit_frequency with shape: (2048, 12)\n"
     ]
    },
    {
     "name": "stderr",
     "output_type": "stream",
     "text": [
      "Processing files incrementally: 100%|██████████████████████████████████████████████████| 26/26 [07:52<00:00, 18.19s/it]"
     ]
    },
    {
     "name": "stdout",
     "output_type": "stream",
     "text": [
      "Processing final_summary with shape: (2048, 4)\n",
      "Error processing file final_summary.pkl: 'Bit (-1)'\n",
      "Final ranked results saved successfully!\n"
     ]
    },
    {
     "name": "stderr",
     "output_type": "stream",
     "text": [
      "\n"
     ]
    }
   ],
   "source": [
    "# Directory where results are saved\n",
    "result_directory = r\"D:\\Road to PhD\\Data Base\\bit_frequency_results\"\n",
    "\n",
    "# Initialize empty DataFrames for each frequency category\n",
    "results_frequency_plus1 = pd.DataFrame()\n",
    "results_frequency_minus1 = pd.DataFrame()\n",
    "results_frequency_0 = pd.DataFrame()\n",
    "\n",
    "# Process each file incrementally\n",
    "for file in tqdm(os.listdir(result_directory), desc=\"Processing files incrementally\"):\n",
    "    if file.endswith(\".pkl\"):  # Ensure only .pkl files are processed\n",
    "        chunk_name = file.replace(\".pkl\", \"\")  # Extract chunk name\n",
    "        file_path = os.path.join(result_directory, file)\n",
    "\n",
    "        try:\n",
    "            # Load the file\n",
    "            specific_chunk = pd.read_pickle(file_path)\n",
    "            print(f\"Processing {chunk_name} with shape: {specific_chunk.shape}\")\n",
    "\n",
    "            # Aggregate and rank for each frequency category separately\n",
    "            # +1 Frequency\n",
    "            plus1_summary = specific_chunk.groupby('Bit (+1)').agg({'Frequency (+1)': 'sum'}).reset_index()\n",
    "            plus1_summary['Chunk_Name'] = chunk_name  # Add source chunk info\n",
    "            results_frequency_plus1 = pd.concat([results_frequency_plus1, plus1_summary], ignore_index=True)\n",
    "\n",
    "            # -1 Frequency\n",
    "            minus1_summary = specific_chunk.groupby('Bit (-1)').agg({'Frequency (-1)': 'sum'}).reset_index()\n",
    "            minus1_summary['Chunk_Name'] = chunk_name  # Add source chunk info\n",
    "            results_frequency_minus1 = pd.concat([results_frequency_minus1, minus1_summary], ignore_index=True)\n",
    "\n",
    "            # 0 Frequency\n",
    "            zero_summary = specific_chunk.groupby('Bit (0)').agg({'Frequency (0)': 'sum'}).reset_index()\n",
    "            zero_summary['Chunk_Name'] = chunk_name  # Add source chunk info\n",
    "            results_frequency_0 = pd.concat([results_frequency_0, zero_summary], ignore_index=True)\n",
    "\n",
    "        except Exception as e:\n",
    "            print(f\"Error processing file {file}: {e}\")\n",
    "\n",
    "# Combine aggregated results and rank them for each frequency category\n",
    "final_plus1 = results_frequency_plus1.groupby('Bit (+1)').agg({'Frequency (+1)': 'sum'}).reset_index()\n",
    "final_minus1 = results_frequency_minus1.groupby('Bit (-1)').agg({'Frequency (-1)': 'sum'}).reset_index()\n",
    "final_0 = results_frequency_0.groupby('Bit (0)').agg({'Frequency (0)': 'sum'}).reset_index()\n",
    "\n",
    "# Sort each final result by its frequency in descending order\n",
    "final_plus1 = final_plus1.sort_values(by='Frequency (+1)', ascending=False)\n",
    "final_minus1 = final_minus1.sort_values(by='Frequency (-1)', ascending=False)\n",
    "final_0 = final_0.sort_values(by='Frequency (0)', ascending=False)\n",
    "\n",
    "# Save the final ranked results to disk\n",
    "output_directory = r\"D:\\Road to PhD\\Data Base\\ranked_frequency_results\"\n",
    "os.makedirs(output_directory, exist_ok=True)  # Create the directory if it doesn't exist\n",
    "\n",
    "final_plus1.to_pickle(os.path.join(output_directory, \"final_ranked_frequency_plus1.pkl\"))\n",
    "final_minus1.to_pickle(os.path.join(output_directory, \"final_ranked_frequency_minus1.pkl\"))\n",
    "final_0.to_pickle(os.path.join(output_directory, \"final_ranked_frequency_0.pkl\"))\n",
    "\n",
    "print(\"Final ranked results saved successfully!\")"
   ]
  },
  {
   "cell_type": "markdown",
   "id": "e7add4ca-877f-4e08-8669-ef5414d733fe",
   "metadata": {},
   "source": [
    "## Loading of Saved Calculations For HI-VLI"
   ]
  },
  {
   "cell_type": "code",
   "execution_count": 8,
   "id": "ac2319db-6ebd-48ae-b702-1e2003cf3874",
   "metadata": {
    "scrolled": true
   },
   "outputs": [
    {
     "name": "stdout",
     "output_type": "stream",
     "text": [
      "Specific Summary:\n",
      "     Bit (+1)  Frequency (+1)\n",
      "597       598          767936\n",
      "1555     1556          673190\n",
      "856       857          669664\n",
      "1989     1990          653994\n",
      "1154     1155          616200\n"
     ]
    }
   ],
   "source": [
    "import glob\n",
    "\n",
    "# Specify the directory where the chunk files are stored\n",
    "directory_HI_VLI = r\"D:\\Road to PhD\\Data Base\\ranked_frequency_results\"\n",
    "summary_HI_VLI = glob.glob(f\"{directory_HI_VLI}/*.pkl\")\n",
    "\n",
    "# Load all chunks into a dictionary\n",
    "summary_HI_VLI_dict = {}\n",
    "for file in summary_HI_VLI:\n",
    "    file_name = file.split(\"\\\\\")[-1]  # Extract the filename (e.g., chunk_100_200.pkl)\n",
    "    summary_HI_VLI_data = pd.read_pickle(file)\n",
    "    summary_HI_VLI_dict[file_name] = summary_HI_VLI_data\n",
    "\n",
    "# Access a specific chunk by its filename\n",
    "specific_summary = summary_HI_VLI_dict.get(\"final_ranked_frequency_plus1.pkl\")\n",
    "if specific_summary is not None:\n",
    "    print(\"Specific Summary:\")\n",
    "    print(specific_summary.head())\n",
    "else:\n",
    "    print(\"Chunk file not found in the loaded dictionary!\")\n",
    "\n",
    "# Save individual chunks or perform operations\n",
    "#for name, data in chunk_dict.items():\n",
    "   # print(f\"Preview of {name}:\")\n",
    "    #print(data.head())"
   ]
  },
  {
   "cell_type": "code",
   "execution_count": 19,
   "id": "9406ec19-8740-4f51-a56a-18886aa26bf3",
   "metadata": {
    "scrolled": true
   },
   "outputs": [
    {
     "name": "stdout",
     "output_type": "stream",
     "text": [
      "The Top Bits for +1 Are the Following:     Bit (+1)  Frequency (+1)\n",
      "597       598          767936\n",
      "1555     1556          673190\n",
      "856       857          669664\n",
      "1989     1990          653994\n",
      "1154     1155          616200\n"
     ]
    }
   ],
   "source": [
    "final_bit_freq_plus1 = summary_HI_VLI_dict.get(\"final_ranked_frequency_plus1.pkl\")\n",
    "final_bit_freq_minus1 = summary_HI_VLI_dict.get(\"final_ranked_frequency_minus1.pkl\")\n",
    "final_bit_freq_0 = summary_HI_VLI_dict.get(\"final_ranked_frequency_0.pkl\")\n",
    "print (f'The Top Bits for +1 Are the Following:{final_bit_freq_plus1.head()}')\n"
   ]
  },
  {
   "cell_type": "code",
   "execution_count": 16,
   "id": "800e8fe2-99e1-49b5-bd03-db0b702e52d5",
   "metadata": {},
   "outputs": [
    {
     "data": {
      "text/html": [
       "<div>\n",
       "<style scoped>\n",
       "    .dataframe tbody tr th:only-of-type {\n",
       "        vertical-align: middle;\n",
       "    }\n",
       "\n",
       "    .dataframe tbody tr th {\n",
       "        vertical-align: top;\n",
       "    }\n",
       "\n",
       "    .dataframe thead th {\n",
       "        text-align: right;\n",
       "    }\n",
       "</style>\n",
       "<table border=\"1\" class=\"dataframe\">\n",
       "  <thead>\n",
       "    <tr style=\"text-align: right;\">\n",
       "      <th></th>\n",
       "      <th>Bit (+1)</th>\n",
       "      <th>Frequency (+1)</th>\n",
       "    </tr>\n",
       "  </thead>\n",
       "  <tbody>\n",
       "    <tr>\n",
       "      <th>597</th>\n",
       "      <td>598</td>\n",
       "      <td>767936</td>\n",
       "    </tr>\n",
       "    <tr>\n",
       "      <th>1555</th>\n",
       "      <td>1556</td>\n",
       "      <td>673190</td>\n",
       "    </tr>\n",
       "    <tr>\n",
       "      <th>856</th>\n",
       "      <td>857</td>\n",
       "      <td>669664</td>\n",
       "    </tr>\n",
       "    <tr>\n",
       "      <th>1989</th>\n",
       "      <td>1990</td>\n",
       "      <td>653994</td>\n",
       "    </tr>\n",
       "    <tr>\n",
       "      <th>1154</th>\n",
       "      <td>1155</td>\n",
       "      <td>616200</td>\n",
       "    </tr>\n",
       "    <tr>\n",
       "      <th>1084</th>\n",
       "      <td>1085</td>\n",
       "      <td>611846</td>\n",
       "    </tr>\n",
       "    <tr>\n",
       "      <th>0</th>\n",
       "      <td>1</td>\n",
       "      <td>609248</td>\n",
       "    </tr>\n",
       "    <tr>\n",
       "      <th>2038</th>\n",
       "      <td>2039</td>\n",
       "      <td>606672</td>\n",
       "    </tr>\n",
       "    <tr>\n",
       "      <th>791</th>\n",
       "      <td>792</td>\n",
       "      <td>603936</td>\n",
       "    </tr>\n",
       "    <tr>\n",
       "      <th>1082</th>\n",
       "      <td>1083</td>\n",
       "      <td>602408</td>\n",
       "    </tr>\n",
       "    <tr>\n",
       "      <th>50</th>\n",
       "      <td>51</td>\n",
       "      <td>595882</td>\n",
       "    </tr>\n",
       "    <tr>\n",
       "      <th>1862</th>\n",
       "      <td>1863</td>\n",
       "      <td>593712</td>\n",
       "    </tr>\n",
       "    <tr>\n",
       "      <th>5</th>\n",
       "      <td>6</td>\n",
       "      <td>591448</td>\n",
       "    </tr>\n",
       "    <tr>\n",
       "      <th>18</th>\n",
       "      <td>19</td>\n",
       "      <td>585936</td>\n",
       "    </tr>\n",
       "    <tr>\n",
       "      <th>7</th>\n",
       "      <td>8</td>\n",
       "      <td>576194</td>\n",
       "    </tr>\n",
       "    <tr>\n",
       "      <th>427</th>\n",
       "      <td>428</td>\n",
       "      <td>572000</td>\n",
       "    </tr>\n",
       "    <tr>\n",
       "      <th>1916</th>\n",
       "      <td>1917</td>\n",
       "      <td>565438</td>\n",
       "    </tr>\n",
       "    <tr>\n",
       "      <th>1216</th>\n",
       "      <td>1217</td>\n",
       "      <td>551670</td>\n",
       "    </tr>\n",
       "    <tr>\n",
       "      <th>1218</th>\n",
       "      <td>1219</td>\n",
       "      <td>545458</td>\n",
       "    </tr>\n",
       "    <tr>\n",
       "      <th>836</th>\n",
       "      <td>837</td>\n",
       "      <td>533484</td>\n",
       "    </tr>\n",
       "  </tbody>\n",
       "</table>\n",
       "</div>"
      ],
      "text/plain": [
       "     Bit (+1)  Frequency (+1)\n",
       "597       598          767936\n",
       "1555     1556          673190\n",
       "856       857          669664\n",
       "1989     1990          653994\n",
       "1154     1155          616200\n",
       "1084     1085          611846\n",
       "0           1          609248\n",
       "2038     2039          606672\n",
       "791       792          603936\n",
       "1082     1083          602408\n",
       "50         51          595882\n",
       "1862     1863          593712\n",
       "5           6          591448\n",
       "18         19          585936\n",
       "7           8          576194\n",
       "427       428          572000\n",
       "1916     1917          565438\n",
       "1216     1217          551670\n",
       "1218     1219          545458\n",
       "836       837          533484"
      ]
     },
     "execution_count": 16,
     "metadata": {},
     "output_type": "execute_result"
    }
   ],
   "source": [
    "final_bit_freq_plus1.iloc[:20]"
   ]
  },
  {
   "cell_type": "code",
   "execution_count": 17,
   "id": "48961c5f-61f4-41a6-9c52-4d2745c434ba",
   "metadata": {},
   "outputs": [
    {
     "data": {
      "text/html": [
       "<div>\n",
       "<style scoped>\n",
       "    .dataframe tbody tr th:only-of-type {\n",
       "        vertical-align: middle;\n",
       "    }\n",
       "\n",
       "    .dataframe tbody tr th {\n",
       "        vertical-align: top;\n",
       "    }\n",
       "\n",
       "    .dataframe thead th {\n",
       "        text-align: right;\n",
       "    }\n",
       "</style>\n",
       "<table border=\"1\" class=\"dataframe\">\n",
       "  <thead>\n",
       "    <tr style=\"text-align: right;\">\n",
       "      <th></th>\n",
       "      <th>Bit (-1)</th>\n",
       "      <th>Frequency (-1)</th>\n",
       "    </tr>\n",
       "  </thead>\n",
       "  <tbody>\n",
       "    <tr>\n",
       "      <th>791</th>\n",
       "      <td>792</td>\n",
       "      <td>335052</td>\n",
       "    </tr>\n",
       "    <tr>\n",
       "      <th>1916</th>\n",
       "      <td>1917</td>\n",
       "      <td>334536</td>\n",
       "    </tr>\n",
       "    <tr>\n",
       "      <th>0</th>\n",
       "      <td>1</td>\n",
       "      <td>330252</td>\n",
       "    </tr>\n",
       "    <tr>\n",
       "      <th>1082</th>\n",
       "      <td>1083</td>\n",
       "      <td>324800</td>\n",
       "    </tr>\n",
       "    <tr>\n",
       "      <th>1154</th>\n",
       "      <td>1155</td>\n",
       "      <td>318150</td>\n",
       "    </tr>\n",
       "    <tr>\n",
       "      <th>7</th>\n",
       "      <td>8</td>\n",
       "      <td>313484</td>\n",
       "    </tr>\n",
       "    <tr>\n",
       "      <th>1084</th>\n",
       "      <td>1085</td>\n",
       "      <td>311190</td>\n",
       "    </tr>\n",
       "    <tr>\n",
       "      <th>545</th>\n",
       "      <td>546</td>\n",
       "      <td>299128</td>\n",
       "    </tr>\n",
       "    <tr>\n",
       "      <th>2</th>\n",
       "      <td>3</td>\n",
       "      <td>297882</td>\n",
       "    </tr>\n",
       "    <tr>\n",
       "      <th>2038</th>\n",
       "      <td>2039</td>\n",
       "      <td>296439</td>\n",
       "    </tr>\n",
       "    <tr>\n",
       "      <th>1989</th>\n",
       "      <td>1990</td>\n",
       "      <td>292644</td>\n",
       "    </tr>\n",
       "    <tr>\n",
       "      <th>1862</th>\n",
       "      <td>1863</td>\n",
       "      <td>291942</td>\n",
       "    </tr>\n",
       "    <tr>\n",
       "      <th>1218</th>\n",
       "      <td>1219</td>\n",
       "      <td>289990</td>\n",
       "    </tr>\n",
       "    <tr>\n",
       "      <th>1555</th>\n",
       "      <td>1556</td>\n",
       "      <td>287000</td>\n",
       "    </tr>\n",
       "    <tr>\n",
       "      <th>805</th>\n",
       "      <td>806</td>\n",
       "      <td>277263</td>\n",
       "    </tr>\n",
       "    <tr>\n",
       "      <th>18</th>\n",
       "      <td>19</td>\n",
       "      <td>269892</td>\n",
       "    </tr>\n",
       "    <tr>\n",
       "      <th>1722</th>\n",
       "      <td>1723</td>\n",
       "      <td>264438</td>\n",
       "    </tr>\n",
       "    <tr>\n",
       "      <th>1849</th>\n",
       "      <td>1850</td>\n",
       "      <td>263662</td>\n",
       "    </tr>\n",
       "    <tr>\n",
       "      <th>5</th>\n",
       "      <td>6</td>\n",
       "      <td>256861</td>\n",
       "    </tr>\n",
       "    <tr>\n",
       "      <th>645</th>\n",
       "      <td>646</td>\n",
       "      <td>256540</td>\n",
       "    </tr>\n",
       "  </tbody>\n",
       "</table>\n",
       "</div>"
      ],
      "text/plain": [
       "     Bit (-1)  Frequency (-1)\n",
       "791       792          335052\n",
       "1916     1917          334536\n",
       "0           1          330252\n",
       "1082     1083          324800\n",
       "1154     1155          318150\n",
       "7           8          313484\n",
       "1084     1085          311190\n",
       "545       546          299128\n",
       "2           3          297882\n",
       "2038     2039          296439\n",
       "1989     1990          292644\n",
       "1862     1863          291942\n",
       "1218     1219          289990\n",
       "1555     1556          287000\n",
       "805       806          277263\n",
       "18         19          269892\n",
       "1722     1723          264438\n",
       "1849     1850          263662\n",
       "5           6          256861\n",
       "645       646          256540"
      ]
     },
     "execution_count": 17,
     "metadata": {},
     "output_type": "execute_result"
    }
   ],
   "source": [
    "final_bit_freq_minus1.iloc[:20]"
   ]
  },
  {
   "cell_type": "code",
   "execution_count": 20,
   "id": "12f9e01e-928f-4e96-a0c8-688053e0722e",
   "metadata": {
    "scrolled": true
   },
   "outputs": [
    {
     "data": {
      "text/html": [
       "<div>\n",
       "<style scoped>\n",
       "    .dataframe tbody tr th:only-of-type {\n",
       "        vertical-align: middle;\n",
       "    }\n",
       "\n",
       "    .dataframe tbody tr th {\n",
       "        vertical-align: top;\n",
       "    }\n",
       "\n",
       "    .dataframe thead th {\n",
       "        text-align: right;\n",
       "    }\n",
       "</style>\n",
       "<table border=\"1\" class=\"dataframe\">\n",
       "  <thead>\n",
       "    <tr style=\"text-align: right;\">\n",
       "      <th></th>\n",
       "      <th>Bit (0)</th>\n",
       "      <th>Frequency (0)</th>\n",
       "    </tr>\n",
       "  </thead>\n",
       "  <tbody>\n",
       "    <tr>\n",
       "      <th>72</th>\n",
       "      <td>73</td>\n",
       "      <td>1272056</td>\n",
       "    </tr>\n",
       "    <tr>\n",
       "      <th>1148</th>\n",
       "      <td>1149</td>\n",
       "      <td>1269766</td>\n",
       "    </tr>\n",
       "    <tr>\n",
       "      <th>1430</th>\n",
       "      <td>1431</td>\n",
       "      <td>1269766</td>\n",
       "    </tr>\n",
       "    <tr>\n",
       "      <th>537</th>\n",
       "      <td>538</td>\n",
       "      <td>1267699</td>\n",
       "    </tr>\n",
       "    <tr>\n",
       "      <th>1124</th>\n",
       "      <td>1125</td>\n",
       "      <td>1265632</td>\n",
       "    </tr>\n",
       "    <tr>\n",
       "      <th>1650</th>\n",
       "      <td>1651</td>\n",
       "      <td>1265126</td>\n",
       "    </tr>\n",
       "    <tr>\n",
       "      <th>385</th>\n",
       "      <td>386</td>\n",
       "      <td>1264943</td>\n",
       "    </tr>\n",
       "    <tr>\n",
       "      <th>283</th>\n",
       "      <td>284</td>\n",
       "      <td>1263565</td>\n",
       "    </tr>\n",
       "    <tr>\n",
       "      <th>1279</th>\n",
       "      <td>1280</td>\n",
       "      <td>1262876</td>\n",
       "    </tr>\n",
       "    <tr>\n",
       "      <th>1999</th>\n",
       "      <td>2000</td>\n",
       "      <td>1262621</td>\n",
       "    </tr>\n",
       "    <tr>\n",
       "      <th>1626</th>\n",
       "      <td>1627</td>\n",
       "      <td>1262432</td>\n",
       "    </tr>\n",
       "    <tr>\n",
       "      <th>959</th>\n",
       "      <td>960</td>\n",
       "      <td>1262432</td>\n",
       "    </tr>\n",
       "    <tr>\n",
       "      <th>832</th>\n",
       "      <td>833</td>\n",
       "      <td>1262432</td>\n",
       "    </tr>\n",
       "    <tr>\n",
       "      <th>1749</th>\n",
       "      <td>1750</td>\n",
       "      <td>1262187</td>\n",
       "    </tr>\n",
       "    <tr>\n",
       "      <th>1770</th>\n",
       "      <td>1771</td>\n",
       "      <td>1262187</td>\n",
       "    </tr>\n",
       "    <tr>\n",
       "      <th>1163</th>\n",
       "      <td>1164</td>\n",
       "      <td>1262187</td>\n",
       "    </tr>\n",
       "    <tr>\n",
       "      <th>58</th>\n",
       "      <td>59</td>\n",
       "      <td>1261980</td>\n",
       "    </tr>\n",
       "    <tr>\n",
       "      <th>934</th>\n",
       "      <td>935</td>\n",
       "      <td>1261498</td>\n",
       "    </tr>\n",
       "    <tr>\n",
       "      <th>814</th>\n",
       "      <td>815</td>\n",
       "      <td>1261295</td>\n",
       "    </tr>\n",
       "    <tr>\n",
       "      <th>41</th>\n",
       "      <td>42</td>\n",
       "      <td>1261058</td>\n",
       "    </tr>\n",
       "  </tbody>\n",
       "</table>\n",
       "</div>"
      ],
      "text/plain": [
       "     Bit (0)  Frequency (0)\n",
       "72        73        1272056\n",
       "1148    1149        1269766\n",
       "1430    1431        1269766\n",
       "537      538        1267699\n",
       "1124    1125        1265632\n",
       "1650    1651        1265126\n",
       "385      386        1264943\n",
       "283      284        1263565\n",
       "1279    1280        1262876\n",
       "1999    2000        1262621\n",
       "1626    1627        1262432\n",
       "959      960        1262432\n",
       "832      833        1262432\n",
       "1749    1750        1262187\n",
       "1770    1771        1262187\n",
       "1163    1164        1262187\n",
       "58        59        1261980\n",
       "934      935        1261498\n",
       "814      815        1261295\n",
       "41        42        1261058"
      ]
     },
     "execution_count": 20,
     "metadata": {},
     "output_type": "execute_result"
    }
   ],
   "source": [
    "final_bit_freq_0.iloc[:20]"
   ]
  },
  {
   "cell_type": "markdown",
   "id": "dec38408-bdc3-4c92-8298-a877cd75d494",
   "metadata": {},
   "source": [
    "Notable Results: \n",
    "1. bit 792 both have high +1 and -1 values, suggesting that altering its position may result to lesser bioactivity, or maybe synergystic effect, meaning that inorder for it to be active it must have a specific bit beside it (neighboring)\n",
    "2. bit 1917 has the same case with 792\n",
    "3. bit 1083 has the same case with 792\n",
    "4. bit 1 has the same case with 792\n",
    "5. 1085 has the same case with 792\n",
    "6. 1990, 1863, 1219, 1556.\n",
    "7. Bit Frequency 0, these are the bits that is common between the neutral point compounds and high value compounds, therefore, from here you can simply connect them then add the positive bits to generate a bioactive molecule against HCT-116. "
   ]
  },
  {
   "cell_type": "markdown",
   "id": "290aa2d2-6c9d-4bc7-aaca-f81ecf29c22f",
   "metadata": {},
   "source": [
    "## MI - VLI Counting of Bits "
   ]
  },
  {
   "cell_type": "code",
   "execution_count": 25,
   "id": "4a307caa-d8ce-4db1-b818-cc1b049a6c52",
   "metadata": {},
   "outputs": [
    {
     "name": "stdout",
     "output_type": "stream",
     "text": [
      "<class 'pandas.core.frame.DataFrame'>\n",
      "RangeIndex: 49382 entries, 0 to 49381\n",
      "Columns: 2048 entries, 1 to Molecule_ID\n",
      "dtypes: int32(2047), object(1)\n",
      "memory usage: 386.0+ MB\n",
      "None\n",
      "   1  2  3  4  5  6  7  8  9  10  ...  2039  2040  2041  2042  2043  2044  \\\n",
      "0 -1 -1 -1  0 -1  0  0 -1 -1   0  ...     0    -1    -1     0     0     1   \n",
      "1 -1 -1 -1  0 -1  0  0 -1 -1   0  ...     0    -1    -1     0     0     1   \n",
      "2 -1 -1 -1  0 -1  0  0 -1  0   0  ...     1    -1     0     0     0     0   \n",
      "3 -1 -1 -1  0 -1  0  0 -1  0   0  ...     1    -1     0     0     0     0   \n",
      "4 -1 -1 -1  0 -1  0  0  0 -1   0  ...     0    -1    -1     0     0     0   \n",
      "\n",
      "   2045  2046  2047                                        Molecule_ID  \n",
      "0     0     0     0  ((14, 242), (14, 640), (14, 1926), (14, 2052),...  \n",
      "1     1     0     0                                      ((76, 5656),)  \n",
      "2     0     0     0                                      ((93, 5871),)  \n",
      "3     1     0     0             ((16, 3285), (143, 3285), (144, 3285))  \n",
      "4     0     0     0                           ((71, 2509), (71, 3453))  \n",
      "\n",
      "[5 rows x 2048 columns]\n"
     ]
    }
   ],
   "source": [
    "file_path = r\"D:\\Road to PhD\\Data Base\\Simplfied chunks_AC\\AC_chunk_AC_0_100_simplified.pkl\"\n",
    "try:\n",
    "    specific_chunk = pd.read_pickle(file_path)\n",
    "    print(specific_chunk.info())  # Structure of the DataFrame\n",
    "    print(specific_chunk.head())  # Preview the data\n",
    "except Exception as e:\n",
    "    print(f\"Error loading file: {e}\")"
   ]
  },
  {
   "cell_type": "code",
   "execution_count": 26,
   "id": "3f8f8c29-eb59-47ad-9a4e-370f26116384",
   "metadata": {},
   "outputs": [
    {
     "data": {
      "text/html": [
       "<div>\n",
       "<style scoped>\n",
       "    .dataframe tbody tr th:only-of-type {\n",
       "        vertical-align: middle;\n",
       "    }\n",
       "\n",
       "    .dataframe tbody tr th {\n",
       "        vertical-align: top;\n",
       "    }\n",
       "\n",
       "    .dataframe thead th {\n",
       "        text-align: right;\n",
       "    }\n",
       "</style>\n",
       "<table border=\"1\" class=\"dataframe\">\n",
       "  <thead>\n",
       "    <tr style=\"text-align: right;\">\n",
       "      <th></th>\n",
       "      <th>1</th>\n",
       "      <th>2</th>\n",
       "      <th>3</th>\n",
       "      <th>4</th>\n",
       "      <th>5</th>\n",
       "      <th>6</th>\n",
       "      <th>7</th>\n",
       "      <th>8</th>\n",
       "      <th>9</th>\n",
       "      <th>10</th>\n",
       "      <th>...</th>\n",
       "      <th>2039</th>\n",
       "      <th>2040</th>\n",
       "      <th>2041</th>\n",
       "      <th>2042</th>\n",
       "      <th>2043</th>\n",
       "      <th>2044</th>\n",
       "      <th>2045</th>\n",
       "      <th>2046</th>\n",
       "      <th>2047</th>\n",
       "      <th>Molecule_ID</th>\n",
       "    </tr>\n",
       "  </thead>\n",
       "  <tbody>\n",
       "    <tr>\n",
       "      <th>0</th>\n",
       "      <td>-1</td>\n",
       "      <td>-1</td>\n",
       "      <td>-1</td>\n",
       "      <td>0</td>\n",
       "      <td>-1</td>\n",
       "      <td>0</td>\n",
       "      <td>0</td>\n",
       "      <td>-1</td>\n",
       "      <td>-1</td>\n",
       "      <td>0</td>\n",
       "      <td>...</td>\n",
       "      <td>0</td>\n",
       "      <td>-1</td>\n",
       "      <td>-1</td>\n",
       "      <td>0</td>\n",
       "      <td>0</td>\n",
       "      <td>1</td>\n",
       "      <td>0</td>\n",
       "      <td>0</td>\n",
       "      <td>0</td>\n",
       "      <td>((14, 242), (14, 640), (14, 1926), (14, 2052),...</td>\n",
       "    </tr>\n",
       "    <tr>\n",
       "      <th>1</th>\n",
       "      <td>-1</td>\n",
       "      <td>-1</td>\n",
       "      <td>-1</td>\n",
       "      <td>0</td>\n",
       "      <td>-1</td>\n",
       "      <td>0</td>\n",
       "      <td>0</td>\n",
       "      <td>-1</td>\n",
       "      <td>-1</td>\n",
       "      <td>0</td>\n",
       "      <td>...</td>\n",
       "      <td>0</td>\n",
       "      <td>-1</td>\n",
       "      <td>-1</td>\n",
       "      <td>0</td>\n",
       "      <td>0</td>\n",
       "      <td>1</td>\n",
       "      <td>1</td>\n",
       "      <td>0</td>\n",
       "      <td>0</td>\n",
       "      <td>((76, 5656),)</td>\n",
       "    </tr>\n",
       "    <tr>\n",
       "      <th>2</th>\n",
       "      <td>-1</td>\n",
       "      <td>-1</td>\n",
       "      <td>-1</td>\n",
       "      <td>0</td>\n",
       "      <td>-1</td>\n",
       "      <td>0</td>\n",
       "      <td>0</td>\n",
       "      <td>-1</td>\n",
       "      <td>0</td>\n",
       "      <td>0</td>\n",
       "      <td>...</td>\n",
       "      <td>1</td>\n",
       "      <td>-1</td>\n",
       "      <td>0</td>\n",
       "      <td>0</td>\n",
       "      <td>0</td>\n",
       "      <td>0</td>\n",
       "      <td>0</td>\n",
       "      <td>0</td>\n",
       "      <td>0</td>\n",
       "      <td>((93, 5871),)</td>\n",
       "    </tr>\n",
       "    <tr>\n",
       "      <th>3</th>\n",
       "      <td>-1</td>\n",
       "      <td>-1</td>\n",
       "      <td>-1</td>\n",
       "      <td>0</td>\n",
       "      <td>-1</td>\n",
       "      <td>0</td>\n",
       "      <td>0</td>\n",
       "      <td>-1</td>\n",
       "      <td>0</td>\n",
       "      <td>0</td>\n",
       "      <td>...</td>\n",
       "      <td>1</td>\n",
       "      <td>-1</td>\n",
       "      <td>0</td>\n",
       "      <td>0</td>\n",
       "      <td>0</td>\n",
       "      <td>0</td>\n",
       "      <td>1</td>\n",
       "      <td>0</td>\n",
       "      <td>0</td>\n",
       "      <td>((16, 3285), (143, 3285), (144, 3285))</td>\n",
       "    </tr>\n",
       "    <tr>\n",
       "      <th>4</th>\n",
       "      <td>-1</td>\n",
       "      <td>-1</td>\n",
       "      <td>-1</td>\n",
       "      <td>0</td>\n",
       "      <td>-1</td>\n",
       "      <td>0</td>\n",
       "      <td>0</td>\n",
       "      <td>0</td>\n",
       "      <td>-1</td>\n",
       "      <td>0</td>\n",
       "      <td>...</td>\n",
       "      <td>0</td>\n",
       "      <td>-1</td>\n",
       "      <td>-1</td>\n",
       "      <td>0</td>\n",
       "      <td>0</td>\n",
       "      <td>0</td>\n",
       "      <td>0</td>\n",
       "      <td>0</td>\n",
       "      <td>0</td>\n",
       "      <td>((71, 2509), (71, 3453))</td>\n",
       "    </tr>\n",
       "  </tbody>\n",
       "</table>\n",
       "<p>5 rows × 2048 columns</p>\n",
       "</div>"
      ],
      "text/plain": [
       "   1  2  3  4  5  6  7  8  9  10  ...  2039  2040  2041  2042  2043  2044  \\\n",
       "0 -1 -1 -1  0 -1  0  0 -1 -1   0  ...     0    -1    -1     0     0     1   \n",
       "1 -1 -1 -1  0 -1  0  0 -1 -1   0  ...     0    -1    -1     0     0     1   \n",
       "2 -1 -1 -1  0 -1  0  0 -1  0   0  ...     1    -1     0     0     0     0   \n",
       "3 -1 -1 -1  0 -1  0  0 -1  0   0  ...     1    -1     0     0     0     0   \n",
       "4 -1 -1 -1  0 -1  0  0  0 -1   0  ...     0    -1    -1     0     0     0   \n",
       "\n",
       "   2045  2046  2047                                        Molecule_ID  \n",
       "0     0     0     0  ((14, 242), (14, 640), (14, 1926), (14, 2052),...  \n",
       "1     1     0     0                                      ((76, 5656),)  \n",
       "2     0     0     0                                      ((93, 5871),)  \n",
       "3     1     0     0             ((16, 3285), (143, 3285), (144, 3285))  \n",
       "4     0     0     0                           ((71, 2509), (71, 3453))  \n",
       "\n",
       "[5 rows x 2048 columns]"
      ]
     },
     "execution_count": 26,
     "metadata": {},
     "output_type": "execute_result"
    }
   ],
   "source": [
    "specific_chunk.head()"
   ]
  },
  {
   "cell_type": "markdown",
   "id": "61737083-1ad2-4eba-a3fe-9c3d0f9fef50",
   "metadata": {},
   "source": [
    "### Counting and Ranking Bits \n"
   ]
  },
  {
   "cell_type": "code",
   "execution_count": 67,
   "id": "a7aec8ad-baf6-4f82-aad1-f1c8c65beab8",
   "metadata": {
    "scrolled": true
   },
   "outputs": [
    {
     "name": "stderr",
     "output_type": "stream",
     "text": [
      "Processing simplified chunks:   0%|                                                             | 0/25 [00:00<?, ?it/s]"
     ]
    },
    {
     "name": "stdout",
     "output_type": "stream",
     "text": [
      "Processing chunk: chunk_AE_0_100_simplified with shape (6225, 2048)\n"
     ]
    },
    {
     "name": "stderr",
     "output_type": "stream",
     "text": [
      "Processing simplified chunks:   4%|██                                                   | 1/25 [00:01<00:25,  1.07s/it]"
     ]
    },
    {
     "name": "stdout",
     "output_type": "stream",
     "text": [
      "Processing chunk: chunk_AE_1000_1100_simplified with shape (6389, 2048)\n"
     ]
    },
    {
     "name": "stderr",
     "output_type": "stream",
     "text": [
      "Processing simplified chunks:   8%|████▏                                                | 2/25 [00:02<00:26,  1.17s/it]"
     ]
    },
    {
     "name": "stdout",
     "output_type": "stream",
     "text": [
      "Processing chunk: chunk_AE_100_200_simplified with shape (6225, 2048)\n"
     ]
    },
    {
     "name": "stderr",
     "output_type": "stream",
     "text": [
      "Processing simplified chunks:  12%|██████▎                                              | 3/25 [00:03<00:23,  1.09s/it]"
     ]
    },
    {
     "name": "stdout",
     "output_type": "stream",
     "text": [
      "Processing chunk: chunk_AE_1100_1200_simplified with shape (6059, 2048)\n"
     ]
    },
    {
     "name": "stderr",
     "output_type": "stream",
     "text": [
      "Processing simplified chunks:  16%|████████▍                                            | 4/25 [00:04<00:21,  1.03s/it]"
     ]
    },
    {
     "name": "stdout",
     "output_type": "stream",
     "text": [
      "Processing chunk: chunk_AE_1200_1300_simplified with shape (6639, 2048)\n"
     ]
    },
    {
     "name": "stderr",
     "output_type": "stream",
     "text": [
      "Processing simplified chunks:  20%|██████████▌                                          | 5/25 [00:05<00:20,  1.04s/it]"
     ]
    },
    {
     "name": "stdout",
     "output_type": "stream",
     "text": [
      "Processing chunk: chunk_AE_1300_1400_simplified with shape (6473, 2048)\n"
     ]
    },
    {
     "name": "stderr",
     "output_type": "stream",
     "text": [
      "Processing simplified chunks:  24%|████████████▋                                        | 6/25 [00:06<00:21,  1.12s/it]"
     ]
    },
    {
     "name": "stdout",
     "output_type": "stream",
     "text": [
      "Processing chunk: chunk_AE_1400_1500_simplified with shape (7302, 2048)\n"
     ]
    },
    {
     "name": "stderr",
     "output_type": "stream",
     "text": [
      "Processing simplified chunks:  28%|██████████████▊                                      | 7/25 [00:07<00:19,  1.08s/it]"
     ]
    },
    {
     "name": "stdout",
     "output_type": "stream",
     "text": [
      "Processing chunk: chunk_AE_1500_1600_simplified with shape (6225, 2048)\n"
     ]
    },
    {
     "name": "stderr",
     "output_type": "stream",
     "text": [
      "Processing simplified chunks:  32%|████████████████▉                                    | 8/25 [00:08<00:17,  1.04s/it]"
     ]
    },
    {
     "name": "stdout",
     "output_type": "stream",
     "text": [
      "Processing chunk: chunk_AE_1600_1700_simplified with shape (5478, 2048)\n"
     ]
    },
    {
     "name": "stderr",
     "output_type": "stream",
     "text": [
      "Processing simplified chunks:  36%|███████████████████                                  | 9/25 [00:09<00:16,  1.05s/it]"
     ]
    },
    {
     "name": "stdout",
     "output_type": "stream",
     "text": [
      "Processing chunk: chunk_AE_1700_1800_simplified with shape (6307, 2048)\n"
     ]
    },
    {
     "name": "stderr",
     "output_type": "stream",
     "text": [
      "Processing simplified chunks:  40%|████████████████████▊                               | 10/25 [00:10<00:15,  1.02s/it]"
     ]
    },
    {
     "name": "stdout",
     "output_type": "stream",
     "text": [
      "Processing chunk: chunk_AE_1800_1900_simplified with shape (6306, 2048)\n"
     ]
    },
    {
     "name": "stderr",
     "output_type": "stream",
     "text": [
      "Processing simplified chunks:  44%|██████████████████████▉                             | 11/25 [00:11<00:13,  1.01it/s]"
     ]
    },
    {
     "name": "stdout",
     "output_type": "stream",
     "text": [
      "Processing chunk: chunk_AE_1900_2000_simplified with shape (6142, 2048)\n"
     ]
    },
    {
     "name": "stderr",
     "output_type": "stream",
     "text": [
      "Processing simplified chunks:  48%|████████████████████████▉                           | 12/25 [00:12<00:13,  1.04s/it]"
     ]
    },
    {
     "name": "stdout",
     "output_type": "stream",
     "text": [
      "Processing chunk: chunk_AE_2000_2100_simplified with shape (5892, 2048)\n"
     ]
    },
    {
     "name": "stderr",
     "output_type": "stream",
     "text": [
      "Processing simplified chunks:  52%|███████████████████████████                         | 13/25 [00:13<00:11,  1.00it/s]"
     ]
    },
    {
     "name": "stdout",
     "output_type": "stream",
     "text": [
      "Processing chunk: chunk_AE_200_300_simplified with shape (6390, 2048)\n"
     ]
    },
    {
     "name": "stderr",
     "output_type": "stream",
     "text": [
      "Processing simplified chunks:  56%|█████████████████████████████                       | 14/25 [00:14<00:11,  1.03s/it]"
     ]
    },
    {
     "name": "stdout",
     "output_type": "stream",
     "text": [
      "Processing chunk: chunk_AE_2100_2200_simplified with shape (5561, 2048)\n"
     ]
    },
    {
     "name": "stderr",
     "output_type": "stream",
     "text": [
      "Processing simplified chunks:  60%|███████████████████████████████▏                    | 15/25 [00:15<00:10,  1.09s/it]"
     ]
    },
    {
     "name": "stdout",
     "output_type": "stream",
     "text": [
      "Processing chunk: chunk_AE_2200_2300_simplified with shape (5893, 2048)\n"
     ]
    },
    {
     "name": "stderr",
     "output_type": "stream",
     "text": [
      "Processing simplified chunks:  64%|█████████████████████████████████▎                  | 16/25 [00:16<00:09,  1.08s/it]"
     ]
    },
    {
     "name": "stdout",
     "output_type": "stream",
     "text": [
      "Processing chunk: chunk_AE_2300_2400_simplified with shape (5146, 2048)\n"
     ]
    },
    {
     "name": "stderr",
     "output_type": "stream",
     "text": [
      "Processing simplified chunks:  68%|███████████████████████████████████▎                | 17/25 [00:17<00:08,  1.06s/it]"
     ]
    },
    {
     "name": "stdout",
     "output_type": "stream",
     "text": [
      "Processing chunk: chunk_AE_2400_2417_simplified with shape (913, 2048)\n"
     ]
    },
    {
     "name": "stderr",
     "output_type": "stream",
     "text": [
      "Processing simplified chunks:  72%|█████████████████████████████████████▍              | 18/25 [00:18<00:07,  1.04s/it]"
     ]
    },
    {
     "name": "stdout",
     "output_type": "stream",
     "text": [
      "Processing chunk: chunk_AE_300_400_simplified with shape (7052, 2048)\n"
     ]
    },
    {
     "name": "stderr",
     "output_type": "stream",
     "text": [
      "Processing simplified chunks:  76%|███████████████████████████████████████▌            | 19/25 [00:19<00:06,  1.05s/it]"
     ]
    },
    {
     "name": "stdout",
     "output_type": "stream",
     "text": [
      "Processing chunk: chunk_AE_400_500_simplified with shape (6723, 2048)\n"
     ]
    },
    {
     "name": "stderr",
     "output_type": "stream",
     "text": [
      "Processing simplified chunks:  80%|█████████████████████████████████████████▌          | 20/25 [00:21<00:05,  1.05s/it]"
     ]
    },
    {
     "name": "stdout",
     "output_type": "stream",
     "text": [
      "Processing chunk: chunk_AE_500_600_simplified with shape (6556, 2048)\n"
     ]
    },
    {
     "name": "stderr",
     "output_type": "stream",
     "text": [
      "Processing simplified chunks:  84%|███████████████████████████████████████████▋        | 21/25 [00:22<00:04,  1.11s/it]"
     ]
    },
    {
     "name": "stdout",
     "output_type": "stream",
     "text": [
      "Processing chunk: chunk_AE_600_700_simplified with shape (6972, 2048)\n"
     ]
    },
    {
     "name": "stderr",
     "output_type": "stream",
     "text": [
      "Processing simplified chunks:  88%|█████████████████████████████████████████████▊      | 22/25 [00:23<00:03,  1.09s/it]"
     ]
    },
    {
     "name": "stdout",
     "output_type": "stream",
     "text": [
      "Processing chunk: chunk_AE_700_800_simplified with shape (7136, 2048)\n"
     ]
    },
    {
     "name": "stderr",
     "output_type": "stream",
     "text": [
      "Processing simplified chunks:  92%|███████████████████████████████████████████████▊    | 23/25 [00:24<00:02,  1.08s/it]"
     ]
    },
    {
     "name": "stdout",
     "output_type": "stream",
     "text": [
      "Processing chunk: chunk_AE_800_900_simplified with shape (6140, 2048)\n"
     ]
    },
    {
     "name": "stderr",
     "output_type": "stream",
     "text": [
      "Processing simplified chunks:  96%|█████████████████████████████████████████████████▉  | 24/25 [00:25<00:01,  1.16s/it]"
     ]
    },
    {
     "name": "stdout",
     "output_type": "stream",
     "text": [
      "Processing chunk: chunk_AE_900_1000_simplified with shape (6557, 2048)\n"
     ]
    },
    {
     "name": "stderr",
     "output_type": "stream",
     "text": [
      "Processing simplified chunks: 100%|████████████████████████████████████████████████████| 25/25 [00:26<00:00,  1.07s/it]"
     ]
    },
    {
     "name": "stdout",
     "output_type": "stream",
     "text": [
      "Final ranked results saved successfully!\n"
     ]
    },
    {
     "name": "stderr",
     "output_type": "stream",
     "text": [
      "\n"
     ]
    }
   ],
   "source": [
    "import os\n",
    "import pandas as pd\n",
    "from tqdm import tqdm  # For progress tracking\n",
    "\n",
    "# Directory to save ranked frequency results\n",
    "directory = r\"D:\\Road to PhD\\Data Base\\Simplified chunks_AE\"\n",
    "output_directory = r\"D:\\Road to PhD\\Data Base\\ranked_frequency_results_AE\"\n",
    "os.makedirs(output_directory, exist_ok=True)  # Ensure the directory exists\n",
    "\n",
    "# Initialize empty DataFrames for each frequency category\n",
    "final_plus1 = pd.DataFrame()\n",
    "final_minus1 = pd.DataFrame()\n",
    "final_0 = pd.DataFrame()\n",
    "\n",
    "# **Fix**: Loop through actual files in the directory instead of `directory.items()`\n",
    "for file_name in tqdm(os.listdir(directory), desc=\"Processing simplified chunks\"):\n",
    "    if not file_name.endswith(\".pkl\"):  # Ensure we process only `.pkl` files\n",
    "        continue\n",
    "\n",
    "    chunk_path = os.path.join(directory, file_name)  # Full path to file\n",
    "    chunk_name = file_name.replace(\".pkl\", \"\")  # Remove `.pkl` for cleaner naming\n",
    "\n",
    "    # Load the chunk DataFrame from the pickle file\n",
    "    grouped_data = pd.read_pickle(chunk_path)\n",
    "    print(f\"Processing chunk: {chunk_name} with shape {grouped_data.shape}\")\n",
    "\n",
    "    # Step 1: Aggregate frequencies **without storing full Molecule_ID lists**\n",
    "    plus1_summary = grouped_data.drop(columns=[\"Molecule_ID\"]).apply(lambda x: (x == 1).sum()).reset_index()\n",
    "    plus1_summary.columns = ['Bit (+1)', 'Frequency (+1)']\n",
    "    plus1_summary['Chunk_Name'] = chunk_name  # Keep track of source chunk\n",
    "\n",
    "    minus1_summary = grouped_data.drop(columns=[\"Molecule_ID\"]).apply(lambda x: (x == -1).sum()).reset_index()\n",
    "    minus1_summary.columns = ['Bit (-1)', 'Frequency (-1)']\n",
    "    minus1_summary['Chunk_Name'] = chunk_name  \n",
    "\n",
    "    zero_summary = grouped_data.drop(columns=[\"Molecule_ID\"]).apply(lambda x: (x == 0).sum()).reset_index()\n",
    "    zero_summary.columns = ['Bit (0)', 'Frequency (0)']\n",
    "    zero_summary['Chunk_Name'] = chunk_name  \n",
    "\n",
    "    # Step 2: **Aggregate frequencies across all chunks**\n",
    "    final_plus1_AE = pd.concat([final_plus1, plus1_summary], ignore_index=True)\n",
    "    final_minus1_AE = pd.concat([final_minus1, minus1_summary], ignore_index=True)\n",
    "    final_0_AE = pd.concat([final_0, zero_summary], ignore_index=True)\n",
    "\n",
    "# Step 3: Rank the frequencies by sum\n",
    "final_plus1_AE = final_plus1_AE.groupby('Bit (+1)').agg({'Frequency (+1)': 'sum'}).reset_index().sort_values(by='Frequency (+1)', ascending=False)\n",
    "final_minus1_AE = final_minus1_AE.groupby('Bit (-1)').agg({'Frequency (-1)': 'sum'}).reset_index().sort_values(by='Frequency (-1)', ascending=False)\n",
    "final_0_AE = final_0_AE.groupby('Bit (0)').agg({'Frequency (0)': 'sum'}).reset_index().sort_values(by='Frequency (0)', ascending=False)\n",
    "\n",
    "# Step 4: Save ranked results directly **without saving intermediate bit frequency files**\n",
    "final_plus1_AE.to_pickle(os.path.join(output_directory, \"final_ranked_frequency_AE_plus1.pkl\"))\n",
    "final_minus1_AE.to_pickle(os.path.join(output_directory, \"final_ranked_frequency_AE_minus1.pkl\"))\n",
    "final_0_AE.to_pickle(os.path.join(output_directory, \"final_ranked_frequency_AE_0.pkl\"))\n",
    "\n",
    "print(\"Final ranked results saved successfully!\")"
   ]
  },
  {
   "cell_type": "code",
   "execution_count": 68,
   "id": "01fa8965-b007-4d7b-b07f-8e8ebe18f59d",
   "metadata": {
    "scrolled": true
   },
   "outputs": [
    {
     "data": {
      "text/html": [
       "<div>\n",
       "<style scoped>\n",
       "    .dataframe tbody tr th:only-of-type {\n",
       "        vertical-align: middle;\n",
       "    }\n",
       "\n",
       "    .dataframe tbody tr th {\n",
       "        vertical-align: top;\n",
       "    }\n",
       "\n",
       "    .dataframe thead th {\n",
       "        text-align: right;\n",
       "    }\n",
       "</style>\n",
       "<table border=\"1\" class=\"dataframe\">\n",
       "  <thead>\n",
       "    <tr style=\"text-align: right;\">\n",
       "      <th></th>\n",
       "      <th>Bit (+1)</th>\n",
       "      <th>Frequency (+1)</th>\n",
       "    </tr>\n",
       "  </thead>\n",
       "  <tbody>\n",
       "    <tr>\n",
       "      <th>856</th>\n",
       "      <td>857</td>\n",
       "      <td>2916</td>\n",
       "    </tr>\n",
       "    <tr>\n",
       "      <th>838</th>\n",
       "      <td>839</td>\n",
       "      <td>1972</td>\n",
       "    </tr>\n",
       "    <tr>\n",
       "      <th>1154</th>\n",
       "      <td>1155</td>\n",
       "      <td>1924</td>\n",
       "    </tr>\n",
       "    <tr>\n",
       "      <th>1216</th>\n",
       "      <td>1217</td>\n",
       "      <td>1922</td>\n",
       "    </tr>\n",
       "    <tr>\n",
       "      <th>1007</th>\n",
       "      <td>1008</td>\n",
       "      <td>1768</td>\n",
       "    </tr>\n",
       "    <tr>\n",
       "      <th>1989</th>\n",
       "      <td>1990</td>\n",
       "      <td>1764</td>\n",
       "    </tr>\n",
       "    <tr>\n",
       "      <th>5</th>\n",
       "      <td>6</td>\n",
       "      <td>1710</td>\n",
       "    </tr>\n",
       "    <tr>\n",
       "      <th>804</th>\n",
       "      <td>805</td>\n",
       "      <td>1702</td>\n",
       "    </tr>\n",
       "    <tr>\n",
       "      <th>1730</th>\n",
       "      <td>1731</td>\n",
       "      <td>1675</td>\n",
       "    </tr>\n",
       "    <tr>\n",
       "      <th>834</th>\n",
       "      <td>835</td>\n",
       "      <td>1650</td>\n",
       "    </tr>\n",
       "    <tr>\n",
       "      <th>484</th>\n",
       "      <td>485</td>\n",
       "      <td>1650</td>\n",
       "    </tr>\n",
       "    <tr>\n",
       "      <th>791</th>\n",
       "      <td>792</td>\n",
       "      <td>1638</td>\n",
       "    </tr>\n",
       "    <tr>\n",
       "      <th>231</th>\n",
       "      <td>232</td>\n",
       "      <td>1632</td>\n",
       "    </tr>\n",
       "    <tr>\n",
       "      <th>1082</th>\n",
       "      <td>1083</td>\n",
       "      <td>1617</td>\n",
       "    </tr>\n",
       "    <tr>\n",
       "      <th>1722</th>\n",
       "      <td>1723</td>\n",
       "      <td>1612</td>\n",
       "    </tr>\n",
       "    <tr>\n",
       "      <th>1084</th>\n",
       "      <td>1085</td>\n",
       "      <td>1610</td>\n",
       "    </tr>\n",
       "    <tr>\n",
       "      <th>427</th>\n",
       "      <td>428</td>\n",
       "      <td>1600</td>\n",
       "    </tr>\n",
       "    <tr>\n",
       "      <th>1555</th>\n",
       "      <td>1556</td>\n",
       "      <td>1600</td>\n",
       "    </tr>\n",
       "    <tr>\n",
       "      <th>1862</th>\n",
       "      <td>1863</td>\n",
       "      <td>1575</td>\n",
       "    </tr>\n",
       "    <tr>\n",
       "      <th>2</th>\n",
       "      <td>3</td>\n",
       "      <td>1537</td>\n",
       "    </tr>\n",
       "  </tbody>\n",
       "</table>\n",
       "</div>"
      ],
      "text/plain": [
       "      Bit (+1)  Frequency (+1)\n",
       "856        857            2916\n",
       "838        839            1972\n",
       "1154      1155            1924\n",
       "1216      1217            1922\n",
       "1007      1008            1768\n",
       "1989      1990            1764\n",
       "5            6            1710\n",
       "804        805            1702\n",
       "1730      1731            1675\n",
       "834        835            1650\n",
       "484        485            1650\n",
       "791        792            1638\n",
       "231        232            1632\n",
       "1082      1083            1617\n",
       "1722      1723            1612\n",
       "1084      1085            1610\n",
       "427        428            1600\n",
       "1555      1556            1600\n",
       "1862      1863            1575\n",
       "2            3            1537"
      ]
     },
     "execution_count": 68,
     "metadata": {},
     "output_type": "execute_result"
    }
   ],
   "source": [
    "final_plus1_AE.iloc[:20]"
   ]
  },
  {
   "cell_type": "code",
   "execution_count": 63,
   "id": "89aac223-967e-4693-a98c-04b3e49e13ed",
   "metadata": {
    "scrolled": true
   },
   "outputs": [
    {
     "data": {
      "text/html": [
       "<div>\n",
       "<style scoped>\n",
       "    .dataframe tbody tr th:only-of-type {\n",
       "        vertical-align: middle;\n",
       "    }\n",
       "\n",
       "    .dataframe tbody tr th {\n",
       "        vertical-align: top;\n",
       "    }\n",
       "\n",
       "    .dataframe thead th {\n",
       "        text-align: right;\n",
       "    }\n",
       "</style>\n",
       "<table border=\"1\" class=\"dataframe\">\n",
       "  <thead>\n",
       "    <tr style=\"text-align: right;\">\n",
       "      <th></th>\n",
       "      <th>Bit (+1)</th>\n",
       "      <th>Frequency (+1)</th>\n",
       "    </tr>\n",
       "  </thead>\n",
       "  <tbody>\n",
       "    <tr>\n",
       "      <th>1555</th>\n",
       "      <td>1556</td>\n",
       "      <td>15600</td>\n",
       "    </tr>\n",
       "    <tr>\n",
       "      <th>0</th>\n",
       "      <td>1</td>\n",
       "      <td>14993</td>\n",
       "    </tr>\n",
       "    <tr>\n",
       "      <th>597</th>\n",
       "      <td>598</td>\n",
       "      <td>14896</td>\n",
       "    </tr>\n",
       "    <tr>\n",
       "      <th>7</th>\n",
       "      <td>8</td>\n",
       "      <td>14094</td>\n",
       "    </tr>\n",
       "    <tr>\n",
       "      <th>1154</th>\n",
       "      <td>1155</td>\n",
       "      <td>13616</td>\n",
       "    </tr>\n",
       "    <tr>\n",
       "      <th>791</th>\n",
       "      <td>792</td>\n",
       "      <td>13338</td>\n",
       "    </tr>\n",
       "    <tr>\n",
       "      <th>5</th>\n",
       "      <td>6</td>\n",
       "      <td>12720</td>\n",
       "    </tr>\n",
       "    <tr>\n",
       "      <th>427</th>\n",
       "      <td>428</td>\n",
       "      <td>12450</td>\n",
       "    </tr>\n",
       "    <tr>\n",
       "      <th>1084</th>\n",
       "      <td>1085</td>\n",
       "      <td>12144</td>\n",
       "    </tr>\n",
       "    <tr>\n",
       "      <th>1722</th>\n",
       "      <td>1723</td>\n",
       "      <td>11966</td>\n",
       "    </tr>\n",
       "    <tr>\n",
       "      <th>805</th>\n",
       "      <td>806</td>\n",
       "      <td>11715</td>\n",
       "    </tr>\n",
       "    <tr>\n",
       "      <th>2</th>\n",
       "      <td>3</td>\n",
       "      <td>11660</td>\n",
       "    </tr>\n",
       "    <tr>\n",
       "      <th>2038</th>\n",
       "      <td>2039</td>\n",
       "      <td>11502</td>\n",
       "    </tr>\n",
       "    <tr>\n",
       "      <th>690</th>\n",
       "      <td>691</td>\n",
       "      <td>11457</td>\n",
       "    </tr>\n",
       "    <tr>\n",
       "      <th>1849</th>\n",
       "      <td>1850</td>\n",
       "      <td>11395</td>\n",
       "    </tr>\n",
       "    <tr>\n",
       "      <th>2043</th>\n",
       "      <td>2044</td>\n",
       "      <td>11352</td>\n",
       "    </tr>\n",
       "    <tr>\n",
       "      <th>1372</th>\n",
       "      <td>1373</td>\n",
       "      <td>11346</td>\n",
       "    </tr>\n",
       "    <tr>\n",
       "      <th>856</th>\n",
       "      <td>857</td>\n",
       "      <td>11340</td>\n",
       "    </tr>\n",
       "    <tr>\n",
       "      <th>1989</th>\n",
       "      <td>1990</td>\n",
       "      <td>11268</td>\n",
       "    </tr>\n",
       "    <tr>\n",
       "      <th>1082</th>\n",
       "      <td>1083</td>\n",
       "      <td>10890</td>\n",
       "    </tr>\n",
       "  </tbody>\n",
       "</table>\n",
       "</div>"
      ],
      "text/plain": [
       "      Bit (+1)  Frequency (+1)\n",
       "1555      1556           15600\n",
       "0            1           14993\n",
       "597        598           14896\n",
       "7            8           14094\n",
       "1154      1155           13616\n",
       "791        792           13338\n",
       "5            6           12720\n",
       "427        428           12450\n",
       "1084      1085           12144\n",
       "1722      1723           11966\n",
       "805        806           11715\n",
       "2            3           11660\n",
       "2038      2039           11502\n",
       "690        691           11457\n",
       "1849      1850           11395\n",
       "2043      2044           11352\n",
       "1372      1373           11346\n",
       "856        857           11340\n",
       "1989      1990           11268\n",
       "1082      1083           10890"
      ]
     },
     "execution_count": 63,
     "metadata": {},
     "output_type": "execute_result"
    }
   ],
   "source": [
    "final_plus1_AD.iloc[:20]"
   ]
  },
  {
   "cell_type": "code",
   "execution_count": 64,
   "id": "481d7cf1-fe74-4829-95b6-e46f432c3861",
   "metadata": {
    "scrolled": true
   },
   "outputs": [
    {
     "data": {
      "text/html": [
       "<div>\n",
       "<style scoped>\n",
       "    .dataframe tbody tr th:only-of-type {\n",
       "        vertical-align: middle;\n",
       "    }\n",
       "\n",
       "    .dataframe tbody tr th {\n",
       "        vertical-align: top;\n",
       "    }\n",
       "\n",
       "    .dataframe thead th {\n",
       "        text-align: right;\n",
       "    }\n",
       "</style>\n",
       "<table border=\"1\" class=\"dataframe\">\n",
       "  <thead>\n",
       "    <tr style=\"text-align: right;\">\n",
       "      <th></th>\n",
       "      <th>Bit (+1)</th>\n",
       "      <th>Frequency (+1)</th>\n",
       "    </tr>\n",
       "  </thead>\n",
       "  <tbody>\n",
       "    <tr>\n",
       "      <th>1555</th>\n",
       "      <td>1556</td>\n",
       "      <td>15920</td>\n",
       "    </tr>\n",
       "    <tr>\n",
       "      <th>597</th>\n",
       "      <td>598</td>\n",
       "      <td>14782</td>\n",
       "    </tr>\n",
       "    <tr>\n",
       "      <th>1154</th>\n",
       "      <td>1155</td>\n",
       "      <td>14615</td>\n",
       "    </tr>\n",
       "    <tr>\n",
       "      <th>7</th>\n",
       "      <td>8</td>\n",
       "      <td>14526</td>\n",
       "    </tr>\n",
       "    <tr>\n",
       "      <th>5</th>\n",
       "      <td>6</td>\n",
       "      <td>13560</td>\n",
       "    </tr>\n",
       "    <tr>\n",
       "      <th>0</th>\n",
       "      <td>1</td>\n",
       "      <td>13536</td>\n",
       "    </tr>\n",
       "    <tr>\n",
       "      <th>856</th>\n",
       "      <td>857</td>\n",
       "      <td>13014</td>\n",
       "    </tr>\n",
       "    <tr>\n",
       "      <th>1722</th>\n",
       "      <td>1723</td>\n",
       "      <td>12834</td>\n",
       "    </tr>\n",
       "    <tr>\n",
       "      <th>427</th>\n",
       "      <td>428</td>\n",
       "      <td>12725</td>\n",
       "    </tr>\n",
       "    <tr>\n",
       "      <th>2043</th>\n",
       "      <td>2044</td>\n",
       "      <td>12342</td>\n",
       "    </tr>\n",
       "    <tr>\n",
       "      <th>1372</th>\n",
       "      <td>1373</td>\n",
       "      <td>12338</td>\n",
       "    </tr>\n",
       "    <tr>\n",
       "      <th>2038</th>\n",
       "      <td>2039</td>\n",
       "      <td>12042</td>\n",
       "    </tr>\n",
       "    <tr>\n",
       "      <th>2</th>\n",
       "      <td>3</td>\n",
       "      <td>11766</td>\n",
       "    </tr>\n",
       "    <tr>\n",
       "      <th>1914</th>\n",
       "      <td>1915</td>\n",
       "      <td>11418</td>\n",
       "    </tr>\n",
       "    <tr>\n",
       "      <th>1916</th>\n",
       "      <td>1917</td>\n",
       "      <td>11382</td>\n",
       "    </tr>\n",
       "    <tr>\n",
       "      <th>1084</th>\n",
       "      <td>1085</td>\n",
       "      <td>11362</td>\n",
       "    </tr>\n",
       "    <tr>\n",
       "      <th>791</th>\n",
       "      <td>792</td>\n",
       "      <td>11271</td>\n",
       "    </tr>\n",
       "    <tr>\n",
       "      <th>50</th>\n",
       "      <td>51</td>\n",
       "      <td>10965</td>\n",
       "    </tr>\n",
       "    <tr>\n",
       "      <th>18</th>\n",
       "      <td>19</td>\n",
       "      <td>10962</td>\n",
       "    </tr>\n",
       "    <tr>\n",
       "      <th>1862</th>\n",
       "      <td>1863</td>\n",
       "      <td>10530</td>\n",
       "    </tr>\n",
       "  </tbody>\n",
       "</table>\n",
       "</div>"
      ],
      "text/plain": [
       "      Bit (+1)  Frequency (+1)\n",
       "1555      1556           15920\n",
       "597        598           14782\n",
       "1154      1155           14615\n",
       "7            8           14526\n",
       "5            6           13560\n",
       "0            1           13536\n",
       "856        857           13014\n",
       "1722      1723           12834\n",
       "427        428           12725\n",
       "2043      2044           12342\n",
       "1372      1373           12338\n",
       "2038      2039           12042\n",
       "2            3           11766\n",
       "1914      1915           11418\n",
       "1916      1917           11382\n",
       "1084      1085           11362\n",
       "791        792           11271\n",
       "50          51           10965\n",
       "18          19           10962\n",
       "1862      1863           10530"
      ]
     },
     "execution_count": 64,
     "metadata": {},
     "output_type": "execute_result"
    }
   ],
   "source": [
    "final_plus1_AC.iloc[:20]\n"
   ]
  },
  {
   "cell_type": "code",
   "execution_count": 58,
   "id": "7a2ec7da-aba9-41ed-b82c-c9eef86a7b5e",
   "metadata": {
    "scrolled": true
   },
   "outputs": [
    {
     "data": {
      "text/html": [
       "<div>\n",
       "<style scoped>\n",
       "    .dataframe tbody tr th:only-of-type {\n",
       "        vertical-align: middle;\n",
       "    }\n",
       "\n",
       "    .dataframe tbody tr th {\n",
       "        vertical-align: top;\n",
       "    }\n",
       "\n",
       "    .dataframe thead th {\n",
       "        text-align: right;\n",
       "    }\n",
       "</style>\n",
       "<table border=\"1\" class=\"dataframe\">\n",
       "  <thead>\n",
       "    <tr style=\"text-align: right;\">\n",
       "      <th></th>\n",
       "      <th>Bit (+1)</th>\n",
       "      <th>Frequency (+1)</th>\n",
       "    </tr>\n",
       "  </thead>\n",
       "  <tbody>\n",
       "    <tr>\n",
       "      <th>1555</th>\n",
       "      <td>1556</td>\n",
       "      <td>15920</td>\n",
       "    </tr>\n",
       "    <tr>\n",
       "      <th>597</th>\n",
       "      <td>598</td>\n",
       "      <td>14782</td>\n",
       "    </tr>\n",
       "    <tr>\n",
       "      <th>1154</th>\n",
       "      <td>1155</td>\n",
       "      <td>14615</td>\n",
       "    </tr>\n",
       "    <tr>\n",
       "      <th>7</th>\n",
       "      <td>8</td>\n",
       "      <td>14526</td>\n",
       "    </tr>\n",
       "    <tr>\n",
       "      <th>5</th>\n",
       "      <td>6</td>\n",
       "      <td>13560</td>\n",
       "    </tr>\n",
       "    <tr>\n",
       "      <th>...</th>\n",
       "      <td>...</td>\n",
       "      <td>...</td>\n",
       "    </tr>\n",
       "    <tr>\n",
       "      <th>124</th>\n",
       "      <td>125</td>\n",
       "      <td>4752</td>\n",
       "    </tr>\n",
       "    <tr>\n",
       "      <th>322</th>\n",
       "      <td>323</td>\n",
       "      <td>4736</td>\n",
       "    </tr>\n",
       "    <tr>\n",
       "      <th>1431</th>\n",
       "      <td>1432</td>\n",
       "      <td>4712</td>\n",
       "    </tr>\n",
       "    <tr>\n",
       "      <th>655</th>\n",
       "      <td>656</td>\n",
       "      <td>4692</td>\n",
       "    </tr>\n",
       "    <tr>\n",
       "      <th>1098</th>\n",
       "      <td>1099</td>\n",
       "      <td>4690</td>\n",
       "    </tr>\n",
       "  </tbody>\n",
       "</table>\n",
       "<p>100 rows × 2 columns</p>\n",
       "</div>"
      ],
      "text/plain": [
       "      Bit (+1)  Frequency (+1)\n",
       "1555      1556           15920\n",
       "597        598           14782\n",
       "1154      1155           14615\n",
       "7            8           14526\n",
       "5            6           13560\n",
       "...        ...             ...\n",
       "124        125            4752\n",
       "322        323            4736\n",
       "1431      1432            4712\n",
       "655        656            4692\n",
       "1098      1099            4690\n",
       "\n",
       "[100 rows x 2 columns]"
      ]
     },
     "execution_count": 58,
     "metadata": {},
     "output_type": "execute_result"
    }
   ],
   "source": [
    "final_plus1_AD.iloc[:100]"
   ]
  },
  {
   "cell_type": "code",
   "execution_count": 60,
   "id": "6a30996c-d289-4eab-a81a-c350e3825291",
   "metadata": {
    "scrolled": true
   },
   "outputs": [
    {
     "data": {
      "text/html": [
       "<div>\n",
       "<style scoped>\n",
       "    .dataframe tbody tr th:only-of-type {\n",
       "        vertical-align: middle;\n",
       "    }\n",
       "\n",
       "    .dataframe tbody tr th {\n",
       "        vertical-align: top;\n",
       "    }\n",
       "\n",
       "    .dataframe thead th {\n",
       "        text-align: right;\n",
       "    }\n",
       "</style>\n",
       "<table border=\"1\" class=\"dataframe\">\n",
       "  <thead>\n",
       "    <tr style=\"text-align: right;\">\n",
       "      <th></th>\n",
       "      <th>Bit (-1)</th>\n",
       "      <th>Frequency (-1)</th>\n",
       "    </tr>\n",
       "  </thead>\n",
       "  <tbody>\n",
       "    <tr>\n",
       "      <th>1989</th>\n",
       "      <td>1990</td>\n",
       "      <td>16168</td>\n",
       "    </tr>\n",
       "    <tr>\n",
       "      <th>1082</th>\n",
       "      <td>1083</td>\n",
       "      <td>16100</td>\n",
       "    </tr>\n",
       "    <tr>\n",
       "      <th>1218</th>\n",
       "      <td>1219</td>\n",
       "      <td>15694</td>\n",
       "    </tr>\n",
       "    <tr>\n",
       "      <th>645</th>\n",
       "      <td>646</td>\n",
       "      <td>14883</td>\n",
       "    </tr>\n",
       "    <tr>\n",
       "      <th>791</th>\n",
       "      <td>792</td>\n",
       "      <td>14800</td>\n",
       "    </tr>\n",
       "    <tr>\n",
       "      <th>1862</th>\n",
       "      <td>1863</td>\n",
       "      <td>14450</td>\n",
       "    </tr>\n",
       "    <tr>\n",
       "      <th>1916</th>\n",
       "      <td>1917</td>\n",
       "      <td>14356</td>\n",
       "    </tr>\n",
       "    <tr>\n",
       "      <th>1084</th>\n",
       "      <td>1085</td>\n",
       "      <td>13596</td>\n",
       "    </tr>\n",
       "    <tr>\n",
       "      <th>223</th>\n",
       "      <td>224</td>\n",
       "      <td>12840</td>\n",
       "    </tr>\n",
       "    <tr>\n",
       "      <th>50</th>\n",
       "      <td>51</td>\n",
       "      <td>12432</td>\n",
       "    </tr>\n",
       "    <tr>\n",
       "      <th>1849</th>\n",
       "      <td>1850</td>\n",
       "      <td>12012</td>\n",
       "    </tr>\n",
       "    <tr>\n",
       "      <th>0</th>\n",
       "      <td>1</td>\n",
       "      <td>11872</td>\n",
       "    </tr>\n",
       "    <tr>\n",
       "      <th>805</th>\n",
       "      <td>806</td>\n",
       "      <td>11424</td>\n",
       "    </tr>\n",
       "    <tr>\n",
       "      <th>2</th>\n",
       "      <td>3</td>\n",
       "      <td>11362</td>\n",
       "    </tr>\n",
       "    <tr>\n",
       "      <th>1154</th>\n",
       "      <td>1155</td>\n",
       "      <td>11088</td>\n",
       "    </tr>\n",
       "    <tr>\n",
       "      <th>597</th>\n",
       "      <td>598</td>\n",
       "      <td>11070</td>\n",
       "    </tr>\n",
       "    <tr>\n",
       "      <th>545</th>\n",
       "      <td>546</td>\n",
       "      <td>10983</td>\n",
       "    </tr>\n",
       "    <tr>\n",
       "      <th>2038</th>\n",
       "      <td>2039</td>\n",
       "      <td>10900</td>\n",
       "    </tr>\n",
       "    <tr>\n",
       "      <th>2040</th>\n",
       "      <td>2041</td>\n",
       "      <td>10792</td>\n",
       "    </tr>\n",
       "    <tr>\n",
       "      <th>803</th>\n",
       "      <td>804</td>\n",
       "      <td>10700</td>\n",
       "    </tr>\n",
       "  </tbody>\n",
       "</table>\n",
       "</div>"
      ],
      "text/plain": [
       "      Bit (-1)  Frequency (-1)\n",
       "1989      1990           16168\n",
       "1082      1083           16100\n",
       "1218      1219           15694\n",
       "645        646           14883\n",
       "791        792           14800\n",
       "1862      1863           14450\n",
       "1916      1917           14356\n",
       "1084      1085           13596\n",
       "223        224           12840\n",
       "50          51           12432\n",
       "1849      1850           12012\n",
       "0            1           11872\n",
       "805        806           11424\n",
       "2            3           11362\n",
       "1154      1155           11088\n",
       "597        598           11070\n",
       "545        546           10983\n",
       "2038      2039           10900\n",
       "2040      2041           10792\n",
       "803        804           10700"
      ]
     },
     "execution_count": 60,
     "metadata": {},
     "output_type": "execute_result"
    }
   ],
   "source": [
    "final_minus1_AC.iloc[:20]"
   ]
  },
  {
   "cell_type": "code",
   "execution_count": 33,
   "id": "e8e77c6d-b852-4b6a-9de6-10d666afbb14",
   "metadata": {
    "scrolled": true
   },
   "outputs": [
    {
     "data": {
      "text/html": [
       "<div>\n",
       "<style scoped>\n",
       "    .dataframe tbody tr th:only-of-type {\n",
       "        vertical-align: middle;\n",
       "    }\n",
       "\n",
       "    .dataframe tbody tr th {\n",
       "        vertical-align: top;\n",
       "    }\n",
       "\n",
       "    .dataframe thead th {\n",
       "        text-align: right;\n",
       "    }\n",
       "</style>\n",
       "<table border=\"1\" class=\"dataframe\">\n",
       "  <thead>\n",
       "    <tr style=\"text-align: right;\">\n",
       "      <th></th>\n",
       "      <th>Bit (0)</th>\n",
       "      <th>Frequency (0)</th>\n",
       "    </tr>\n",
       "  </thead>\n",
       "  <tbody>\n",
       "    <tr>\n",
       "      <th>1430</th>\n",
       "      <td>1431</td>\n",
       "      <td>51928</td>\n",
       "    </tr>\n",
       "    <tr>\n",
       "      <th>1224</th>\n",
       "      <td>1225</td>\n",
       "      <td>51928</td>\n",
       "    </tr>\n",
       "    <tr>\n",
       "      <th>72</th>\n",
       "      <td>73</td>\n",
       "      <td>51849</td>\n",
       "    </tr>\n",
       "    <tr>\n",
       "      <th>973</th>\n",
       "      <td>974</td>\n",
       "      <td>51849</td>\n",
       "    </tr>\n",
       "    <tr>\n",
       "      <th>1163</th>\n",
       "      <td>1164</td>\n",
       "      <td>51849</td>\n",
       "    </tr>\n",
       "    <tr>\n",
       "      <th>157</th>\n",
       "      <td>158</td>\n",
       "      <td>51849</td>\n",
       "    </tr>\n",
       "    <tr>\n",
       "      <th>1262</th>\n",
       "      <td>1263</td>\n",
       "      <td>51849</td>\n",
       "    </tr>\n",
       "    <tr>\n",
       "      <th>1891</th>\n",
       "      <td>1892</td>\n",
       "      <td>51770</td>\n",
       "    </tr>\n",
       "    <tr>\n",
       "      <th>369</th>\n",
       "      <td>370</td>\n",
       "      <td>51770</td>\n",
       "    </tr>\n",
       "    <tr>\n",
       "      <th>1650</th>\n",
       "      <td>1651</td>\n",
       "      <td>51770</td>\n",
       "    </tr>\n",
       "    <tr>\n",
       "      <th>1092</th>\n",
       "      <td>1093</td>\n",
       "      <td>51770</td>\n",
       "    </tr>\n",
       "    <tr>\n",
       "      <th>755</th>\n",
       "      <td>756</td>\n",
       "      <td>51770</td>\n",
       "    </tr>\n",
       "    <tr>\n",
       "      <th>210</th>\n",
       "      <td>211</td>\n",
       "      <td>51770</td>\n",
       "    </tr>\n",
       "    <tr>\n",
       "      <th>1114</th>\n",
       "      <td>1115</td>\n",
       "      <td>51770</td>\n",
       "    </tr>\n",
       "    <tr>\n",
       "      <th>1659</th>\n",
       "      <td>1660</td>\n",
       "      <td>51770</td>\n",
       "    </tr>\n",
       "    <tr>\n",
       "      <th>883</th>\n",
       "      <td>884</td>\n",
       "      <td>51770</td>\n",
       "    </tr>\n",
       "    <tr>\n",
       "      <th>1118</th>\n",
       "      <td>1119</td>\n",
       "      <td>51691</td>\n",
       "    </tr>\n",
       "    <tr>\n",
       "      <th>1520</th>\n",
       "      <td>1521</td>\n",
       "      <td>51691</td>\n",
       "    </tr>\n",
       "    <tr>\n",
       "      <th>607</th>\n",
       "      <td>608</td>\n",
       "      <td>51691</td>\n",
       "    </tr>\n",
       "    <tr>\n",
       "      <th>537</th>\n",
       "      <td>538</td>\n",
       "      <td>51691</td>\n",
       "    </tr>\n",
       "  </tbody>\n",
       "</table>\n",
       "</div>"
      ],
      "text/plain": [
       "      Bit (0)  Frequency (0)\n",
       "1430     1431          51928\n",
       "1224     1225          51928\n",
       "72         73          51849\n",
       "973       974          51849\n",
       "1163     1164          51849\n",
       "157       158          51849\n",
       "1262     1263          51849\n",
       "1891     1892          51770\n",
       "369       370          51770\n",
       "1650     1651          51770\n",
       "1092     1093          51770\n",
       "755       756          51770\n",
       "210       211          51770\n",
       "1114     1115          51770\n",
       "1659     1660          51770\n",
       "883       884          51770\n",
       "1118     1119          51691\n",
       "1520     1521          51691\n",
       "607       608          51691\n",
       "537       538          51691"
      ]
     },
     "execution_count": 33,
     "metadata": {},
     "output_type": "execute_result"
    }
   ],
   "source": [
    "final_0_AC.iloc[:20]"
   ]
  },
  {
   "cell_type": "code",
   "execution_count": null,
   "id": "7e6634ca-2faf-489d-8798-c8c7dfe92d5e",
   "metadata": {},
   "outputs": [],
   "source": []
  }
 ],
 "metadata": {
  "kernelspec": {
   "display_name": "Python 3 (ipykernel)",
   "language": "python",
   "name": "python3"
  },
  "language_info": {
   "codemirror_mode": {
    "name": "ipython",
    "version": 3
   },
   "file_extension": ".py",
   "mimetype": "text/x-python",
   "name": "python",
   "nbconvert_exporter": "python",
   "pygments_lexer": "ipython3",
   "version": "3.12.5"
  }
 },
 "nbformat": 4,
 "nbformat_minor": 5
}
